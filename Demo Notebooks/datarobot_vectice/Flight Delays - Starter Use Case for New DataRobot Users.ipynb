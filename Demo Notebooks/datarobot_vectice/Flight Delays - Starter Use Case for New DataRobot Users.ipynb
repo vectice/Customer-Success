{
 "cells": [
  {
   "cell_type": "markdown",
   "metadata": {},
   "source": [
    "# Starter use case: Predict flight delays\n",
    "\n",
    "Version Date: November 2023"
   ]
  },
  {
   "cell_type": "markdown",
   "metadata": {},
   "source": [
    "## Overview\n",
    "\n",
    "This accelerator aims to assist DataRobot trial users by providing a guided walkthough of the trial experience. DataRobot suggests that you complete the Flight Delays sample use case in the graphical user interface first, and then return to this accelerator. \n",
    "\n",
    "In this notebook, you will:\n",
    "\n",
    " * Create a use case folder.\n",
    " * Import data from an S3 bucket (this differs from the in-software walkthrough tutorial).\n",
    " * Perform a data wrangling operation to create the target feature with code (this also differs from the in-software walkthrough tutorial).\n",
    " * Register the wrangled data set.\n",
    " * Explore the new data set.\n",
    " * Create an experiment and allow DataRobot automation to populate it with many modeling pipelines.\n",
    " * Explore model insights for the best performing model.\n",
    " * View the modeling pipeline for the best performing model.\n",
    " * Register a model in the Model Registry.\n",
    " * Configure a deployment.\n",
    " * Create a deployment.\n",
    " * Make predictions using the deployment.\n",
    " * Review deployment metrics.\n",
    "\n",
    "\n",
    "### Data source\n",
    "\n",
    "Information on flight delays is made available by the [Bureau of Transportation Statistics](https://www.transtats.bts.gov/ONTIME/Departures.aspx). DataRobot downloaded data from this website in April 2023 and made minor modifications to prepare it for use in this accelerator. \n",
    "\n",
    "To narrow down the amount of data involved, the dataset assembled for this use case is limited to January 2023 flights originating in Portland (PDX) and Seattle (SEA) operated by the carriers Alaska Airlines (AS) and United Airlines (UA). \n",
    "\n",
    "### Data contents\n",
    "  \n",
    "There 7671 rows in the training data set with these 15 columns:\n",
    "\n",
    "| Field                      | Data Type         | Description                                                                                           |\n",
    "| -------------------------- | ----------------- | ----------------------------------------------------------------------------------------------------- |\n",
    "| Date                       | str (MM/DD/YYYY) | The date of the flight.                                                                                |\n",
    "| Carrier Code               | categorical       | The carrier code of the airline (one of AS, UA).                                               |\n",
    "| Origin Airport             | categorical       | The three-letter airport code of the origin airport (one of PDX, SEA).                            |\n",
    "| Flight Number              | numeric           | The flight number for the flight (needs to be converted to categorical).                               |\n",
    "| Tail Number                | categorical       | The tail number of the aircraft.                                                                       |\n",
    "| Destination Airport        | categorical       | The three-letter airport code of the destination airport (many variants).                              |\n",
    "| Scheduled Departure Time   | time (HH:MM)      | The 24-hour scheduled departure time of the flight, in the origin airport's timezone.                  |\n",
    "| Take-Off Delay Minutes     | numeric           | The number of minutes past the scheduled departure time that the flight took off (also known as wheels-up time). |\n",
    " \n"
   ]
  },
  {
   "cell_type": "markdown",
   "metadata": {},
   "source": [
    "## Setup\n",
    "\n",
    "### Import libraries\n",
    "\n",
    "The first cell of the notebook imports necessary packages, and sets up the connection to the DataRobot platform. This accelerator uses Use Cases to organize related AI assets into a folder. Use Cases was added to the DataRobot Python package in version 3.2.0. "
   ]
  },
  {
   "cell_type": "code",
   "execution_count": 1,
   "metadata": {},
   "outputs": [],
   "source": [
    "import datarobot as dr\n",
    "import matplotlib.pyplot as plt\n",
    "import numpy as np\n",
    "import pandas as pd"
   ]
  },
  {
   "cell_type": "code",
   "execution_count": 2,
   "metadata": {},
   "outputs": [
    {
     "name": "stdout",
     "output_type": "stream",
     "text": [
      "3.2.1\n"
     ]
    }
   ],
   "source": [
    "print(dr.__version__)"
   ]
  },
  {
   "cell_type": "code",
   "execution_count": 3,
   "metadata": {},
   "outputs": [],
   "source": [
    "# Upgrade datarobot package to at least 3.2.0\n",
    "# pip install --upgrade datarobot"
   ]
  },
  {
   "cell_type": "markdown",
   "metadata": {},
   "source": [
    "### Connect to DataRobot\n",
    "\n",
    "Read more about different options for [connecting to DataRobot from the Python client](https://docs.datarobot.com/en/docs/api/api-quickstart/api-qs.html).\n",
    " "
   ]
  },
  {
   "cell_type": "code",
   "execution_count": 4,
   "metadata": {},
   "outputs": [
    {
     "data": {
      "text/plain": [
       "<datarobot.rest.RESTClientObject at 0x10e4afeb0>"
      ]
     },
     "execution_count": 4,
     "metadata": {},
     "output_type": "execute_result"
    }
   ],
   "source": [
    "# Connect to DataRobot when using DataRobot Notebooks\n",
    "dr.Client()"
   ]
  },
  {
   "cell_type": "code",
   "execution_count": 5,
   "metadata": {},
   "outputs": [],
   "source": [
    "# Connect to DataRobot when working outside DataRobot Notebooks\n",
    "# api_key = \"YOUR_API_TOKEN\"  # Get this from the Developer Tools page in the DataRobot UI\n",
    "# endpoint = \"YOUR_DATAROBOT_BASE_URL\"  # eg \"https://app.datarobot.com/\" This should be the URL you use to access the DataRobot UI\n",
    "\n",
    "# dr.Client(endpoint=\"%sapi/v2\" % (endpoint), token=api_key)"
   ]
  },
  {
   "cell_type": "code",
   "execution_count": 6,
   "metadata": {},
   "outputs": [],
   "source": [
    "# or use a config file\n",
    "# dr.Client(config_path = \"/Users/andrea.kropp/datarobot_ee_account_config.yaml\")"
   ]
  },
  {
   "cell_type": "markdown",
   "metadata": {},
   "source": [
    "## Create a new Use Case\n",
    "\n",
    "Create a new use case folder to contain the assets that this accelerator will produce. This notebook will create three datasets, one experiment and one deployment inside the use case folder."
   ]
  },
  {
   "cell_type": "code",
   "execution_count": 7,
   "metadata": {},
   "outputs": [
    {
     "data": {
      "text/plain": [
       "'6543e9d18115b2f028fe6bd9'"
      ]
     },
     "execution_count": 7,
     "metadata": {},
     "output_type": "execute_result"
    }
   ],
   "source": [
    "# Create a use case folder\n",
    "\n",
    "flight_delays_use_case = dr.UseCase.create(\n",
    "    name=\"Final Flight Delays Walkthrough from Notebook\",\n",
    "    description=\"Tutorial for understanding end-to-end workflows in DataRobot.\",\n",
    ")\n",
    "\n",
    "flight_delays_use_case.id"
   ]
  },
  {
   "cell_type": "markdown",
   "metadata": {},
   "source": [
    "## Retrieve the data\n",
    "\n",
    "The data for this use case is provided in DataRobot's Amazon S3 public datasets bucket. There is a 300 KB CSV file used to train the model and a 31 KB CSV file used for performing a batch scoring job.\n",
    "\n",
    "You can download the data to inspect it or add it directly to DataRobot's AI Catalog as shown in this notebook. The datasets can be added to AI Catalog directly from the Amazon S3 bucket.\n",
    "\n",
    "[Download the training data (optional)](https://s3.amazonaws.com/datarobot_public_datasets/ai_accelerators/flight_delays/flight_delays_training.csv) \n",
    "\n",
    "[Download the scoring data (optional](https://s3.amazonaws.com/datarobot_public_datasets/ai_accelerators/flight_delays/flight_delays_scoring.csv) "
   ]
  },
  {
   "cell_type": "markdown",
   "metadata": {},
   "source": [
    "### Upload data to DataRobot \n",
    "\n",
    "The datasets can be added to AI Catalog directly from the Amazon S3 bucket. After they are added, associate them with the current Use Case."
   ]
  },
  {
   "cell_type": "code",
   "execution_count": 8,
   "metadata": {},
   "outputs": [
    {
     "data": {
      "text/plain": [
       "'6543e9d18115b2f028fe6bdb'"
      ]
     },
     "execution_count": 8,
     "metadata": {},
     "output_type": "execute_result"
    }
   ],
   "source": [
    "training_data = dr.Dataset.upload(\n",
    "    \"https://s3.amazonaws.com/datarobot_public_datasets/ai_accelerators/flight_delays/flight_delays_training.csv\"\n",
    ")\n",
    "training_data.id"
   ]
  },
  {
   "cell_type": "code",
   "execution_count": 9,
   "metadata": {},
   "outputs": [
    {
     "data": {
      "text/plain": [
       "'6543ea10134c85fe7808bba3'"
      ]
     },
     "execution_count": 9,
     "metadata": {},
     "output_type": "execute_result"
    }
   ],
   "source": [
    "scoring_data = dr.Dataset.upload(\n",
    "    \"https://s3.amazonaws.com/datarobot_public_datasets/ai_accelerators/flight_delays/flight_delays_scoring.csv\"\n",
    ")\n",
    "scoring_data.id"
   ]
  },
  {
   "cell_type": "code",
   "execution_count": 10,
   "metadata": {},
   "outputs": [
    {
     "data": {
      "text/plain": [
       "[Dataset(name='flight_delays_scoring.csv', id='6543ea10134c85fe7808bba3'),\n",
       " Dataset(name='flight_delays_training.csv', id='6543e9d18115b2f028fe6bdb')]"
      ]
     },
     "execution_count": 10,
     "metadata": {},
     "output_type": "execute_result"
    }
   ],
   "source": [
    "# Add the two datasets to the use case\n",
    "\n",
    "flight_delays_use_case.add(entity=training_data)\n",
    "flight_delays_use_case.add(entity=scoring_data)\n",
    "flight_delays_use_case.list_datasets()"
   ]
  },
  {
   "cell_type": "markdown",
   "metadata": {},
   "source": [
    "## Explore and wrangle the data\n",
    "\n",
    "Access the dataset that has been uploaded to AI Catalog and convert it to a pandas dataframe. Then view the top few rows. Perform a calculation to create a new column. The new column will be used as the target for the binary classifier, so this step is required."
   ]
  },
  {
   "cell_type": "markdown",
   "metadata": {},
   "source": [
    "#### View dataset"
   ]
  },
  {
   "cell_type": "code",
   "execution_count": 11,
   "metadata": {},
   "outputs": [
    {
     "data": {
      "text/html": [
       "<div>\n",
       "<style scoped>\n",
       "    .dataframe tbody tr th:only-of-type {\n",
       "        vertical-align: middle;\n",
       "    }\n",
       "\n",
       "    .dataframe tbody tr th {\n",
       "        vertical-align: top;\n",
       "    }\n",
       "\n",
       "    .dataframe thead th {\n",
       "        text-align: right;\n",
       "    }\n",
       "</style>\n",
       "<table border=\"1\" class=\"dataframe\">\n",
       "  <thead>\n",
       "    <tr style=\"text-align: right;\">\n",
       "      <th></th>\n",
       "      <th>Date</th>\n",
       "      <th>Carrier_Code</th>\n",
       "      <th>Origin_Airport</th>\n",
       "      <th>Flight_Number</th>\n",
       "      <th>Tail_Number</th>\n",
       "      <th>Destination_Airport</th>\n",
       "      <th>Scheduled_Departure_Time</th>\n",
       "      <th>Take_Off_Delay_Minutes</th>\n",
       "    </tr>\n",
       "  </thead>\n",
       "  <tbody>\n",
       "    <tr>\n",
       "      <th>0</th>\n",
       "      <td>1/1/23</td>\n",
       "      <td>UA</td>\n",
       "      <td>SEA</td>\n",
       "      <td>2090</td>\n",
       "      <td>N79521</td>\n",
       "      <td>ORD</td>\n",
       "      <td>0:29</td>\n",
       "      <td>3</td>\n",
       "    </tr>\n",
       "    <tr>\n",
       "      <th>1</th>\n",
       "      <td>1/1/23</td>\n",
       "      <td>AS</td>\n",
       "      <td>SEA</td>\n",
       "      <td>185</td>\n",
       "      <td>N408AS</td>\n",
       "      <td>ANC</td>\n",
       "      <td>0:30</td>\n",
       "      <td>75</td>\n",
       "    </tr>\n",
       "    <tr>\n",
       "      <th>2</th>\n",
       "      <td>1/1/23</td>\n",
       "      <td>UA</td>\n",
       "      <td>SEA</td>\n",
       "      <td>2672</td>\n",
       "      <td>N67501</td>\n",
       "      <td>DEN</td>\n",
       "      <td>5:03</td>\n",
       "      <td>3</td>\n",
       "    </tr>\n",
       "    <tr>\n",
       "      <th>3</th>\n",
       "      <td>1/1/23</td>\n",
       "      <td>UA</td>\n",
       "      <td>PDX</td>\n",
       "      <td>2493</td>\n",
       "      <td>N39423</td>\n",
       "      <td>DEN</td>\n",
       "      <td>5:05</td>\n",
       "      <td>8</td>\n",
       "    </tr>\n",
       "    <tr>\n",
       "      <th>4</th>\n",
       "      <td>1/1/23</td>\n",
       "      <td>AS</td>\n",
       "      <td>PDX</td>\n",
       "      <td>697</td>\n",
       "      <td>N237AK</td>\n",
       "      <td>SJC</td>\n",
       "      <td>6:00</td>\n",
       "      <td>12</td>\n",
       "    </tr>\n",
       "    <tr>\n",
       "      <th>5</th>\n",
       "      <td>1/1/23</td>\n",
       "      <td>AS</td>\n",
       "      <td>PDX</td>\n",
       "      <td>371</td>\n",
       "      <td>N533AS</td>\n",
       "      <td>LAX</td>\n",
       "      <td>6:00</td>\n",
       "      <td>-1</td>\n",
       "    </tr>\n",
       "    <tr>\n",
       "      <th>6</th>\n",
       "      <td>1/1/23</td>\n",
       "      <td>AS</td>\n",
       "      <td>SEA</td>\n",
       "      <td>257</td>\n",
       "      <td>N926VA</td>\n",
       "      <td>LAX</td>\n",
       "      <td>6:00</td>\n",
       "      <td>9</td>\n",
       "    </tr>\n",
       "    <tr>\n",
       "      <th>7</th>\n",
       "      <td>1/1/23</td>\n",
       "      <td>AS</td>\n",
       "      <td>SEA</td>\n",
       "      <td>1014</td>\n",
       "      <td>N260AK</td>\n",
       "      <td>ORD</td>\n",
       "      <td>6:00</td>\n",
       "      <td>15</td>\n",
       "    </tr>\n",
       "    <tr>\n",
       "      <th>8</th>\n",
       "      <td>1/1/23</td>\n",
       "      <td>AS</td>\n",
       "      <td>SEA</td>\n",
       "      <td>74</td>\n",
       "      <td>N618AS</td>\n",
       "      <td>SNA</td>\n",
       "      <td>6:00</td>\n",
       "      <td>-1</td>\n",
       "    </tr>\n",
       "    <tr>\n",
       "      <th>9</th>\n",
       "      <td>1/1/23</td>\n",
       "      <td>UA</td>\n",
       "      <td>SEA</td>\n",
       "      <td>1771</td>\n",
       "      <td>N35271</td>\n",
       "      <td>ORD</td>\n",
       "      <td>6:24</td>\n",
       "      <td>4</td>\n",
       "    </tr>\n",
       "  </tbody>\n",
       "</table>\n",
       "</div>"
      ],
      "text/plain": [
       "     Date Carrier_Code Origin_Airport  Flight_Number Tail_Number  \\\n",
       "0  1/1/23           UA            SEA           2090      N79521   \n",
       "1  1/1/23           AS            SEA            185      N408AS   \n",
       "2  1/1/23           UA            SEA           2672      N67501   \n",
       "3  1/1/23           UA            PDX           2493      N39423   \n",
       "4  1/1/23           AS            PDX            697      N237AK   \n",
       "5  1/1/23           AS            PDX            371      N533AS   \n",
       "6  1/1/23           AS            SEA            257      N926VA   \n",
       "7  1/1/23           AS            SEA           1014      N260AK   \n",
       "8  1/1/23           AS            SEA             74      N618AS   \n",
       "9  1/1/23           UA            SEA           1771      N35271   \n",
       "\n",
       "  Destination_Airport Scheduled_Departure_Time  Take_Off_Delay_Minutes  \n",
       "0                 ORD                     0:29                       3  \n",
       "1                 ANC                     0:30                      75  \n",
       "2                 DEN                     5:03                       3  \n",
       "3                 DEN                     5:05                       8  \n",
       "4                 SJC                     6:00                      12  \n",
       "5                 LAX                     6:00                      -1  \n",
       "6                 LAX                     6:00                       9  \n",
       "7                 ORD                     6:00                      15  \n",
       "8                 SNA                     6:00                      -1  \n",
       "9                 ORD                     6:24                       4  "
      ]
     },
     "execution_count": 11,
     "metadata": {},
     "output_type": "execute_result"
    }
   ],
   "source": [
    "# Retrieve the data set locally and convert it to a pandas dataframe\n",
    "df = dr.Dataset.get(training_data.id).get_as_dataframe()\n",
    "df.head(10)"
   ]
  },
  {
   "cell_type": "code",
   "execution_count": 12,
   "metadata": {},
   "outputs": [
    {
     "data": {
      "text/plain": [
       "Text(0.5, 0, 'Flight Count')"
      ]
     },
     "execution_count": 12,
     "metadata": {},
     "output_type": "execute_result"
    },
    {
     "data": {
      "image/png": "[encoded data removed]",
      "text/plain": [
       "<Figure size 720x720 with 4 Axes>"
      ]
     },
     "metadata": {
      "needs_background": "light"
     },
     "output_type": "display_data"
    }
   ],
   "source": [
    "# Explore the data provided with some plots\n",
    "\n",
    "plt.rcParams[\"axes.labelsize\"] = 10\n",
    "plt.rcParams[\"axes.titlesize\"] = 14\n",
    "plt.rcParams[\"xtick.labelsize\"] = 10\n",
    "plt.rcParams[\"ytick.labelsize\"] = 10\n",
    "plt.rcParams[\"figure.titlesize\"] = 14\n",
    "\n",
    "fig, axes = plt.subplots(nrows=2, ncols=2, figsize=(10, 10), tight_layout=True)\n",
    "\n",
    "plt.subplot(2, 2, 1)\n",
    "plt.hist(df[\"Take_Off_Delay_Minutes\"], bins=100)\n",
    "plt.title(\n",
    "    \"Histogram of Flight Delays\",\n",
    ")\n",
    "plt.ylabel(\"Flight Count\")\n",
    "plt.xlabel(\"Minutes Delayed\")\n",
    "\n",
    "plt.subplot(2, 2, 2)\n",
    "df[\"Origin_Airport\"].value_counts().sort_values().plot(kind=\"barh\")\n",
    "plt.title(\"Flight Count by Origin\")\n",
    "plt.xlabel(\"Flight Count\")\n",
    "\n",
    "plt.subplot(2, 2, 3)\n",
    "df[\"Destination_Airport\"].value_counts().sort_values()[0:15].plot(kind=\"barh\")\n",
    "plt.title(\"Flight Count by Destination (Top 15)\")\n",
    "plt.xlabel(\"Flight Count\")\n",
    "\n",
    "plt.subplot(2, 2, 4)\n",
    "df[\"Carrier_Code\"].value_counts().sort_values().plot(kind=\"barh\")\n",
    "plt.title(\"Flight Count by Carrier\")\n",
    "plt.xlabel(\"Flight Count\")"
   ]
  },
  {
   "cell_type": "markdown",
   "metadata": {},
   "source": [
    "### Perform one data wrangling operation\n",
    "\n",
    "The training data contains the flight delay in minutes with the feature name `TAKE_OFF_DELAY_MINUTES`. Compute a new binary feature to indicate if the delay is greater than 30 minutes named `TAKE_OFF_DELAY_GREATER_THAN_30`."
   ]
  },
  {
   "cell_type": "code",
   "execution_count": 13,
   "metadata": {},
   "outputs": [
    {
     "data": {
      "text/plain": [
       "0.24172099087353324"
      ]
     },
     "execution_count": 13,
     "metadata": {},
     "output_type": "execute_result"
    }
   ],
   "source": [
    "# Calculate whether the delay exceeds 30 minutes\n",
    "df[\"TAKE_OFF_DELAY_GREATER_THAN_30\"] = np.where(df[\"Take_Off_Delay_Minutes\"] > 30, 1, 0)\n",
    "\n",
    "# Calculate the percentage of all flights delayed by more than 30 minutes\n",
    "np.mean(df[\"TAKE_OFF_DELAY_GREATER_THAN_30\"])"
   ]
  },
  {
   "cell_type": "code",
   "execution_count": 14,
   "metadata": {},
   "outputs": [
    {
     "data": {
      "text/plain": [
       "'6543ea4e36f70a91d0700201'"
      ]
     },
     "execution_count": 14,
     "metadata": {},
     "output_type": "execute_result"
    }
   ],
   "source": [
    "# Add the wrangled data to the Use Case; obtain the unique identifier for the dataset\n",
    "\n",
    "df_final = dr.Dataset.create_from_in_memory_data(\n",
    "    data_frame=df, use_cases=flight_delays_use_case, fname=\"flight delays wrangled\"\n",
    ")\n",
    "df_final.id"
   ]
  },
  {
   "cell_type": "markdown",
   "metadata": {},
   "source": [
    "## Create an Experiment\n",
    "\n",
    "To create an experiment project from a dataset, use `create_from_dataset()`.\n",
    "\n",
    "Start a new project and obtain its ID number for future reference. If you wish, you can open the DataRobot graphical user interface and you'll see a new Experiment project listed after you execute the next cell."
   ]
  },
  {
   "cell_type": "code",
   "execution_count": 15,
   "metadata": {},
   "outputs": [
    {
     "data": {
      "text/plain": [
       "'6543ea8335cacd9d5d4703d4'"
      ]
     },
     "execution_count": 15,
     "metadata": {},
     "output_type": "execute_result"
    }
   ],
   "source": [
    "# Create a new experiment project from a previously registered dataset\n",
    "# Place the project in the same use case folder\n",
    "\n",
    "project = dr.Project.create_from_dataset(\n",
    "    df_final.id,\n",
    "    project_name=\"Flight Delays Walkthrough Experiments\",\n",
    "    use_case=flight_delays_use_case,\n",
    ")\n",
    "project.id"
   ]
  },
  {
   "cell_type": "markdown",
   "metadata": {},
   "source": [
    "### Start modeling\n",
    "\n",
    "The project is ready to start modeling. There are numerous configurable settings which are out of scope of this accelerator. Visit the [DataRobot documentation](https://docs.datarobot.com/en/docs/modeling/index.html) to learn more about advanced options, modeling modes, worker counts and selecting an optimization metric.\n",
    "\n",
    "You can optionally open the DataRobot GUI to see a new experiment listed after you execute the next cell."
   ]
  },
  {
   "cell_type": "code",
   "execution_count": 16,
   "metadata": {},
   "outputs": [
    {
     "name": "stdout",
     "output_type": "stream",
     "text": [
      "In progress: 8, queued: 1 (waited: 0s)\n",
      "In progress: 8, queued: 1 (waited: 1s)\n",
      "In progress: 8, queued: 1 (waited: 2s)\n",
      "In progress: 8, queued: 1 (waited: 3s)\n",
      "In progress: 8, queued: 1 (waited: 4s)\n",
      "In progress: 8, queued: 1 (waited: 6s)\n",
      "In progress: 8, queued: 1 (waited: 10s)\n",
      "In progress: 8, queued: 1 (waited: 18s)\n",
      "In progress: 8, queued: 1 (waited: 31s)\n",
      "In progress: 4, queued: 0 (waited: 52s)\n",
      "In progress: 2, queued: 0 (waited: 73s)\n",
      "In progress: 2, queued: 0 (waited: 94s)\n",
      "In progress: 1, queued: 0 (waited: 115s)\n",
      "In progress: 7, queued: 9 (waited: 136s)\n",
      "In progress: 8, queued: 8 (waited: 157s)\n",
      "In progress: 7, queued: 2 (waited: 178s)\n",
      "In progress: 7, queued: 0 (waited: 199s)\n",
      "In progress: 2, queued: 0 (waited: 220s)\n",
      "In progress: 0, queued: 0 (waited: 241s)\n",
      "In progress: 0, queued: 0 (waited: 262s)\n",
      "In progress: 1, queued: 0 (waited: 282s)\n",
      "In progress: 1, queued: 0 (waited: 303s)\n",
      "In progress: 1, queued: 0 (waited: 324s)\n",
      "In progress: 1, queued: 0 (waited: 345s)\n",
      "In progress: 0, queued: 0 (waited: 365s)\n",
      "In progress: 0, queued: 0 (waited: 386s)\n",
      "In progress: 0, queued: 0 (waited: 407s)\n"
     ]
    }
   ],
   "source": [
    "# Start modeling. Once you execute this, the initial settings can no longer be changed.\n",
    "project.analyze_and_model(target=\"TAKE_OFF_DELAY_GREATER_THAN_30\")\n",
    "\n",
    "# You can optionally open the DataRobot GUI to see the modeling in progress.\n",
    "project.wait_for_autopilot(timeout=3600)"
   ]
  },
  {
   "cell_type": "markdown",
   "metadata": {},
   "source": [
    "## Examine Experiment contents and explore the top model\n",
    "\n",
    "List all the models that have been created within the project. Then you can learn more about the top performing model."
   ]
  },
  {
   "cell_type": "code",
   "execution_count": 17,
   "metadata": {},
   "outputs": [
    {
     "data": {
      "text/plain": [
       "[Model('RuleFit Classifier'),\n",
       " Model('RuleFit Classifier'),\n",
       " Model('Light Gradient Boosting on ElasticNet Predictions '),\n",
       " Model('eXtreme Gradient Boosted Trees Classifier with Early Stopping'),\n",
       " Model('RandomForest Classifier (Gini)'),\n",
       " Model('Light Gradient Boosted Trees Classifier with Early Stopping'),\n",
       " Model('Elastic-Net Classifier (mixing alpha=0.5 / Binomial Deviance)'),\n",
       " Model('Elastic-Net Classifier (L2 / Binomial Deviance)'),\n",
       " Model('Generalized Additive2 Model'),\n",
       " Model('Keras Slim Residual Neural Network Classifier using Training Schedule (1 Layer: 64 Units)')]"
      ]
     },
     "execution_count": 17,
     "metadata": {},
     "output_type": "execute_result"
    }
   ],
   "source": [
    "# Get all the models for the project. The top model for the optimization metric on the validation set is the first one.\n",
    "models = project.get_models()\n",
    "models"
   ]
  },
  {
   "cell_type": "code",
   "execution_count": 18,
   "metadata": {},
   "outputs": [
    {
     "data": {
      "text/plain": [
       "'6543eacc46dd8c49b326ae86'"
      ]
     },
     "execution_count": 18,
     "metadata": {},
     "output_type": "execute_result"
    }
   ],
   "source": [
    "# Retrieve the model object for the top performing model. Select one of the models to examine more closely.\n",
    "# Note that model comparison is better conducted in the graphical user interface.\n",
    "\n",
    "top_model = project.get_top_model(metric=\"LogLoss\")\n",
    "top_model.id"
   ]
  },
  {
   "cell_type": "code",
   "execution_count": 19,
   "metadata": {},
   "outputs": [
    {
     "data": {
      "text/plain": [
       "'The top model is a RuleFit Classifier with a Log Loss of 0.521166 and an AUC of 0.664088.'"
      ]
     },
     "execution_count": 19,
     "metadata": {},
     "output_type": "execute_result"
    }
   ],
   "source": [
    "# Print the LogLoss and AUC for the top model\n",
    "f\"The top model is a {top_model.model_type} with a Log Loss of {top_model.metrics['LogLoss']['crossValidation']} and an AUC of {top_model.metrics['AUC']['crossValidation']}.\""
   ]
  },
  {
   "cell_type": "markdown",
   "metadata": {},
   "source": [
    "### Feature Impact\n",
    "\n",
    "Learn about the features used in the top performing model and visualize which features are driving model decisions."
   ]
  },
  {
   "cell_type": "code",
   "execution_count": 20,
   "metadata": {},
   "outputs": [
    {
     "data": {
      "text/html": [
       "<div>\n",
       "<style scoped>\n",
       "    .dataframe tbody tr th:only-of-type {\n",
       "        vertical-align: middle;\n",
       "    }\n",
       "\n",
       "    .dataframe tbody tr th {\n",
       "        vertical-align: top;\n",
       "    }\n",
       "\n",
       "    .dataframe thead th {\n",
       "        text-align: right;\n",
       "    }\n",
       "</style>\n",
       "<table border=\"1\" class=\"dataframe\">\n",
       "  <thead>\n",
       "    <tr style=\"text-align: right;\">\n",
       "      <th></th>\n",
       "      <th>featureName</th>\n",
       "      <th>impactNormalized</th>\n",
       "      <th>impactUnnormalized</th>\n",
       "      <th>redundantWith</th>\n",
       "    </tr>\n",
       "  </thead>\n",
       "  <tbody>\n",
       "    <tr>\n",
       "      <th>0</th>\n",
       "      <td>Date</td>\n",
       "      <td>1.000000</td>\n",
       "      <td>0.023229</td>\n",
       "      <td>None</td>\n",
       "    </tr>\n",
       "    <tr>\n",
       "      <th>1</th>\n",
       "      <td>Scheduled_Departure_Time</td>\n",
       "      <td>0.949682</td>\n",
       "      <td>0.022060</td>\n",
       "      <td>None</td>\n",
       "    </tr>\n",
       "    <tr>\n",
       "      <th>2</th>\n",
       "      <td>Flight_Number</td>\n",
       "      <td>0.591023</td>\n",
       "      <td>0.013729</td>\n",
       "      <td>None</td>\n",
       "    </tr>\n",
       "    <tr>\n",
       "      <th>3</th>\n",
       "      <td>Date (Day of Week)</td>\n",
       "      <td>0.548815</td>\n",
       "      <td>0.012748</td>\n",
       "      <td>None</td>\n",
       "    </tr>\n",
       "    <tr>\n",
       "      <th>4</th>\n",
       "      <td>Origin_Airport</td>\n",
       "      <td>0.506295</td>\n",
       "      <td>0.011761</td>\n",
       "      <td>None</td>\n",
       "    </tr>\n",
       "    <tr>\n",
       "      <th>5</th>\n",
       "      <td>Destination_Airport</td>\n",
       "      <td>0.397192</td>\n",
       "      <td>0.009226</td>\n",
       "      <td>None</td>\n",
       "    </tr>\n",
       "    <tr>\n",
       "      <th>6</th>\n",
       "      <td>Scheduled_Departure_Time (Hour of Day)</td>\n",
       "      <td>0.260896</td>\n",
       "      <td>0.006060</td>\n",
       "      <td>None</td>\n",
       "    </tr>\n",
       "    <tr>\n",
       "      <th>7</th>\n",
       "      <td>Carrier_Code</td>\n",
       "      <td>0.036059</td>\n",
       "      <td>0.000838</td>\n",
       "      <td>None</td>\n",
       "    </tr>\n",
       "    <tr>\n",
       "      <th>8</th>\n",
       "      <td>Tail_Number</td>\n",
       "      <td>0.000000</td>\n",
       "      <td>0.000000</td>\n",
       "      <td>None</td>\n",
       "    </tr>\n",
       "  </tbody>\n",
       "</table>\n",
       "</div>"
      ],
      "text/plain": [
       "                              featureName  impactNormalized  \\\n",
       "0                                    Date          1.000000   \n",
       "1                Scheduled_Departure_Time          0.949682   \n",
       "2                           Flight_Number          0.591023   \n",
       "3                      Date (Day of Week)          0.548815   \n",
       "4                          Origin_Airport          0.506295   \n",
       "5                     Destination_Airport          0.397192   \n",
       "6  Scheduled_Departure_Time (Hour of Day)          0.260896   \n",
       "7                            Carrier_Code          0.036059   \n",
       "8                             Tail_Number          0.000000   \n",
       "\n",
       "   impactUnnormalized redundantWith  \n",
       "0            0.023229          None  \n",
       "1            0.022060          None  \n",
       "2            0.013729          None  \n",
       "3            0.012748          None  \n",
       "4            0.011761          None  \n",
       "5            0.009226          None  \n",
       "6            0.006060          None  \n",
       "7            0.000838          None  \n",
       "8            0.000000          None  "
      ]
     },
     "execution_count": 20,
     "metadata": {},
     "output_type": "execute_result"
    }
   ],
   "source": [
    "# Get Feature Impact for the top model\n",
    "feature_impact = top_model.get_or_request_feature_impact()\n",
    "\n",
    "# Save feature impact in a pandas dataframe\n",
    "fi_df = pd.DataFrame(feature_impact)\n",
    "\n",
    "fi_df"
   ]
  },
  {
   "cell_type": "markdown",
   "metadata": {},
   "source": [
    "### Blueprint\n",
    "\n",
    "See the full machine leanring pipeline for the top model including preprocessing steps."
   ]
  },
  {
   "cell_type": "code",
   "execution_count": 21,
   "metadata": {},
   "outputs": [
    {
     "name": "stdout",
     "output_type": "stream",
     "text": [
      "['One-Hot Encoding', 'Missing Values Imputed', 'Matrix of word-grams occurrences', 'RuleFit Classifier']\n"
     ]
    }
   ],
   "source": [
    "# Retrieve the blueprint of the top model\n",
    "blueprint = dr.Blueprint.get(project.id, top_model.blueprint_id)\n",
    "\n",
    "print(blueprint.processes)"
   ]
  },
  {
   "cell_type": "markdown",
   "metadata": {},
   "source": [
    "## Register the model\n",
    "\n",
    "Register the top model in the Model Registry. This will be possible with future versions of the DataRobot Python package."
   ]
  },
  {
   "cell_type": "markdown",
   "metadata": {},
   "source": [
    "## Deploy the model\n",
    "\n",
    "Deploy the model to a DataRobot prediction server."
   ]
  },
  {
   "cell_type": "code",
   "execution_count": 22,
   "metadata": {},
   "outputs": [
    {
     "data": {
      "text/plain": [
       "PredictionServer(https://mlops.dynamic.orm.datarobot.com)"
      ]
     },
     "execution_count": 22,
     "metadata": {},
     "output_type": "execute_result"
    }
   ],
   "source": [
    "# The default prediction server is used when making predictions against the deployment, and is a requirement for creating a deployment on DataRobot cloud.\n",
    "prediction_server = dr.PredictionServer.list()[0]\n",
    "prediction_server"
   ]
  },
  {
   "cell_type": "code",
   "execution_count": 23,
   "metadata": {},
   "outputs": [
    {
     "data": {
      "text/plain": [
       "'6543ec6e6fcffd7022f1cf12'"
      ]
     },
     "execution_count": 23,
     "metadata": {},
     "output_type": "execute_result"
    }
   ],
   "source": [
    "# Create a new deployment\n",
    "\n",
    "deployment = dr.Deployment.create_from_learning_model(\n",
    "    top_model.id,\n",
    "    label=\"Flight Delays Deployment\",\n",
    "    description=\"Deployment from notebook of top model\",\n",
    "    default_prediction_server_id=prediction_server.id,\n",
    ")\n",
    "\n",
    "deployment.id"
   ]
  },
  {
   "cell_type": "code",
   "execution_count": 24,
   "metadata": {},
   "outputs": [],
   "source": [
    "# Update deployment settings to enable draft tracking\n",
    "\n",
    "deployment.update_drift_tracking_settings(\n",
    "    target_drift_enabled=True, feature_drift_enabled=True\n",
    ")"
   ]
  },
  {
   "cell_type": "markdown",
   "metadata": {},
   "source": [
    "## Make batch predictions\n",
    "\n",
    "Make predictions using the scoring dataset. There are many options for how to score new data. Read about all your [choices for making predictions](https://datarobot-public-api-client.readthedocs-hosted.com/en/v3.2.1/reference/predictions/batch_predictions.html)."
   ]
  },
  {
   "cell_type": "code",
   "execution_count": 35,
   "metadata": {},
   "outputs": [
    {
     "data": {
      "text/html": [
       "<div>\n",
       "<style scoped>\n",
       "    .dataframe tbody tr th:only-of-type {\n",
       "        vertical-align: middle;\n",
       "    }\n",
       "\n",
       "    .dataframe tbody tr th {\n",
       "        vertical-align: top;\n",
       "    }\n",
       "\n",
       "    .dataframe thead th {\n",
       "        text-align: right;\n",
       "    }\n",
       "</style>\n",
       "<table border=\"1\" class=\"dataframe\">\n",
       "  <thead>\n",
       "    <tr style=\"text-align: right;\">\n",
       "      <th></th>\n",
       "      <th>Date</th>\n",
       "      <th>Carrier_Code</th>\n",
       "      <th>Origin_Airport</th>\n",
       "      <th>Flight_Number</th>\n",
       "      <th>Tail_Number</th>\n",
       "      <th>Destination_Airport</th>\n",
       "      <th>Scheduled_Departure_Time</th>\n",
       "    </tr>\n",
       "  </thead>\n",
       "  <tbody>\n",
       "    <tr>\n",
       "      <th>0</th>\n",
       "      <td>1/29/23</td>\n",
       "      <td>UA</td>\n",
       "      <td>SEA</td>\n",
       "      <td>529</td>\n",
       "      <td>N27724</td>\n",
       "      <td>IAH</td>\n",
       "      <td>5:00</td>\n",
       "    </tr>\n",
       "    <tr>\n",
       "      <th>1</th>\n",
       "      <td>1/29/23</td>\n",
       "      <td>UA</td>\n",
       "      <td>PDX</td>\n",
       "      <td>2075</td>\n",
       "      <td>N466UA</td>\n",
       "      <td>IAH</td>\n",
       "      <td>5:04</td>\n",
       "    </tr>\n",
       "    <tr>\n",
       "      <th>2</th>\n",
       "      <td>1/29/23</td>\n",
       "      <td>UA</td>\n",
       "      <td>SEA</td>\n",
       "      <td>2672</td>\n",
       "      <td>N808UA</td>\n",
       "      <td>DEN</td>\n",
       "      <td>5:15</td>\n",
       "    </tr>\n",
       "    <tr>\n",
       "      <th>3</th>\n",
       "      <td>1/29/23</td>\n",
       "      <td>UA</td>\n",
       "      <td>PDX</td>\n",
       "      <td>2493</td>\n",
       "      <td>N463UA</td>\n",
       "      <td>DEN</td>\n",
       "      <td>5:30</td>\n",
       "    </tr>\n",
       "    <tr>\n",
       "      <th>4</th>\n",
       "      <td>1/29/23</td>\n",
       "      <td>UA</td>\n",
       "      <td>SEA</td>\n",
       "      <td>1780</td>\n",
       "      <td>N37536</td>\n",
       "      <td>SFO</td>\n",
       "      <td>5:30</td>\n",
       "    </tr>\n",
       "  </tbody>\n",
       "</table>\n",
       "</div>"
      ],
      "text/plain": [
       "      Date Carrier_Code Origin_Airport  Flight_Number Tail_Number  \\\n",
       "0  1/29/23           UA            SEA            529      N27724   \n",
       "1  1/29/23           UA            PDX           2075      N466UA   \n",
       "2  1/29/23           UA            SEA           2672      N808UA   \n",
       "3  1/29/23           UA            PDX           2493      N463UA   \n",
       "4  1/29/23           UA            SEA           1780      N37536   \n",
       "\n",
       "  Destination_Airport Scheduled_Departure_Time  \n",
       "0                 IAH                     5:00  \n",
       "1                 IAH                     5:04  \n",
       "2                 DEN                     5:15  \n",
       "3                 DEN                     5:30  \n",
       "4                 SFO                     5:30  "
      ]
     },
     "execution_count": 35,
     "metadata": {},
     "output_type": "execute_result"
    }
   ],
   "source": [
    "# Option 1: Score an in-memory Pandas DataFrame.\n",
    "\n",
    "scoring_df = dr.Dataset.get(scoring_data.id).get_as_dataframe()\n",
    "scoring_df.head(5)"
   ]
  },
  {
   "cell_type": "code",
   "execution_count": 36,
   "metadata": {},
   "outputs": [
    {
     "name": "stdout",
     "output_type": "stream",
     "text": [
      "Streaming DataFrame as CSV data to DataRobot\n",
      "Created Batch Prediction job ID 6543edb01cd1acb572c6059c\n",
      "Waiting for DataRobot to start processing\n",
      "Job has started processing at DataRobot. Streaming results.\n"
     ]
    },
    {
     "data": {
      "text/html": [
       "<div>\n",
       "<style scoped>\n",
       "    .dataframe tbody tr th:only-of-type {\n",
       "        vertical-align: middle;\n",
       "    }\n",
       "\n",
       "    .dataframe tbody tr th {\n",
       "        vertical-align: top;\n",
       "    }\n",
       "\n",
       "    .dataframe thead th {\n",
       "        text-align: right;\n",
       "    }\n",
       "</style>\n",
       "<table border=\"1\" class=\"dataframe\">\n",
       "  <thead>\n",
       "    <tr style=\"text-align: right;\">\n",
       "      <th></th>\n",
       "      <th>Date</th>\n",
       "      <th>Carrier_Code</th>\n",
       "      <th>Origin_Airport</th>\n",
       "      <th>Flight_Number</th>\n",
       "      <th>Tail_Number</th>\n",
       "      <th>Destination_Airport</th>\n",
       "      <th>Scheduled_Departure_Time</th>\n",
       "      <th>TAKE_OFF_DELAY_GREATER_THAN_30_1_PREDICTION</th>\n",
       "      <th>TAKE_OFF_DELAY_GREATER_THAN_30_0_PREDICTION</th>\n",
       "      <th>TAKE_OFF_DELAY_GREATER_THAN_30_PREDICTION</th>\n",
       "      <th>THRESHOLD</th>\n",
       "      <th>POSITIVE_CLASS</th>\n",
       "      <th>DEPLOYMENT_APPROVAL_STATUS</th>\n",
       "    </tr>\n",
       "  </thead>\n",
       "  <tbody>\n",
       "    <tr>\n",
       "      <th>0</th>\n",
       "      <td>1/29/23</td>\n",
       "      <td>UA</td>\n",
       "      <td>SEA</td>\n",
       "      <td>529</td>\n",
       "      <td>N27724</td>\n",
       "      <td>IAH</td>\n",
       "      <td>5:00</td>\n",
       "      <td>0.145428</td>\n",
       "      <td>0.854572</td>\n",
       "      <td>0</td>\n",
       "      <td>0.5</td>\n",
       "      <td>1</td>\n",
       "      <td>APPROVED</td>\n",
       "    </tr>\n",
       "    <tr>\n",
       "      <th>1</th>\n",
       "      <td>1/29/23</td>\n",
       "      <td>UA</td>\n",
       "      <td>PDX</td>\n",
       "      <td>2075</td>\n",
       "      <td>N466UA</td>\n",
       "      <td>IAH</td>\n",
       "      <td>5:04</td>\n",
       "      <td>0.063791</td>\n",
       "      <td>0.936209</td>\n",
       "      <td>0</td>\n",
       "      <td>0.5</td>\n",
       "      <td>1</td>\n",
       "      <td>APPROVED</td>\n",
       "    </tr>\n",
       "    <tr>\n",
       "      <th>2</th>\n",
       "      <td>1/29/23</td>\n",
       "      <td>UA</td>\n",
       "      <td>SEA</td>\n",
       "      <td>2672</td>\n",
       "      <td>N808UA</td>\n",
       "      <td>DEN</td>\n",
       "      <td>5:15</td>\n",
       "      <td>0.093707</td>\n",
       "      <td>0.906293</td>\n",
       "      <td>0</td>\n",
       "      <td>0.5</td>\n",
       "      <td>1</td>\n",
       "      <td>APPROVED</td>\n",
       "    </tr>\n",
       "    <tr>\n",
       "      <th>3</th>\n",
       "      <td>1/29/23</td>\n",
       "      <td>UA</td>\n",
       "      <td>PDX</td>\n",
       "      <td>2493</td>\n",
       "      <td>N463UA</td>\n",
       "      <td>DEN</td>\n",
       "      <td>5:30</td>\n",
       "      <td>0.060908</td>\n",
       "      <td>0.939092</td>\n",
       "      <td>0</td>\n",
       "      <td>0.5</td>\n",
       "      <td>1</td>\n",
       "      <td>APPROVED</td>\n",
       "    </tr>\n",
       "    <tr>\n",
       "      <th>4</th>\n",
       "      <td>1/29/23</td>\n",
       "      <td>UA</td>\n",
       "      <td>SEA</td>\n",
       "      <td>1780</td>\n",
       "      <td>N37536</td>\n",
       "      <td>SFO</td>\n",
       "      <td>5:30</td>\n",
       "      <td>0.144848</td>\n",
       "      <td>0.855152</td>\n",
       "      <td>0</td>\n",
       "      <td>0.5</td>\n",
       "      <td>1</td>\n",
       "      <td>APPROVED</td>\n",
       "    </tr>\n",
       "  </tbody>\n",
       "</table>\n",
       "</div>"
      ],
      "text/plain": [
       "      Date Carrier_Code Origin_Airport  Flight_Number Tail_Number  \\\n",
       "0  1/29/23           UA            SEA            529      N27724   \n",
       "1  1/29/23           UA            PDX           2075      N466UA   \n",
       "2  1/29/23           UA            SEA           2672      N808UA   \n",
       "3  1/29/23           UA            PDX           2493      N463UA   \n",
       "4  1/29/23           UA            SEA           1780      N37536   \n",
       "\n",
       "  Destination_Airport Scheduled_Departure_Time  \\\n",
       "0                 IAH                     5:00   \n",
       "1                 IAH                     5:04   \n",
       "2                 DEN                     5:15   \n",
       "3                 DEN                     5:30   \n",
       "4                 SFO                     5:30   \n",
       "\n",
       "   TAKE_OFF_DELAY_GREATER_THAN_30_1_PREDICTION  \\\n",
       "0                                     0.145428   \n",
       "1                                     0.063791   \n",
       "2                                     0.093707   \n",
       "3                                     0.060908   \n",
       "4                                     0.144848   \n",
       "\n",
       "   TAKE_OFF_DELAY_GREATER_THAN_30_0_PREDICTION  \\\n",
       "0                                     0.854572   \n",
       "1                                     0.936209   \n",
       "2                                     0.906293   \n",
       "3                                     0.939092   \n",
       "4                                     0.855152   \n",
       "\n",
       "   TAKE_OFF_DELAY_GREATER_THAN_30_PREDICTION  THRESHOLD  POSITIVE_CLASS  \\\n",
       "0                                          0        0.5               1   \n",
       "1                                          0        0.5               1   \n",
       "2                                          0        0.5               1   \n",
       "3                                          0        0.5               1   \n",
       "4                                          0        0.5               1   \n",
       "\n",
       "  DEPLOYMENT_APPROVAL_STATUS  \n",
       "0                   APPROVED  \n",
       "1                   APPROVED  \n",
       "2                   APPROVED  \n",
       "3                   APPROVED  \n",
       "4                   APPROVED  "
      ]
     },
     "execution_count": 36,
     "metadata": {},
     "output_type": "execute_result"
    }
   ],
   "source": [
    "# The method returns a copy of the job status and the updated DataFrame with the predictions added.\n",
    "# So your DataFrame will now contain the following extra columns:\n",
    "\n",
    "job, scoring_df = dr.BatchPredictionJob.score_pandas(deployment.id, scoring_df)\n",
    "\n",
    "scoring_df.head(5)"
   ]
  },
  {
   "cell_type": "markdown",
   "metadata": {},
   "source": [
    "## Review deployment metrics\n",
    "\n",
    "Having scored some data, you can now view the monitoring metrics associated with the deployment. Learn about all [monitoring metrics associated with the Deployment](https://datarobot-public-api-client.readthedocs-hosted.com/en/v3.2.1/reference/mlops/deployment.html?highlight=service%20health#monitoring)"
   ]
  },
  {
   "cell_type": "code",
   "execution_count": null,
   "metadata": {},
   "outputs": [],
   "source": [
    "# Wait a few seconds to be sure that monitoring metrics will be available when requested\n",
    "import time\n",
    "\n",
    "time.sleep(15)  # Sleep for 15 seconds"
   ]
  },
  {
   "cell_type": "code",
   "execution_count": 38,
   "metadata": {},
   "outputs": [
    {
     "data": {
      "text/plain": [
       "1648"
      ]
     },
     "execution_count": 38,
     "metadata": {},
     "output_type": "execute_result"
    }
   ],
   "source": [
    "# Returns the total number of predictions made\n",
    "\n",
    "from datarobot.enums import SERVICE_STAT_METRIC\n",
    "\n",
    "service_stats = deployment.get_service_stats()\n",
    "\n",
    "service_stats[SERVICE_STAT_METRIC.TOTAL_PREDICTIONS]"
   ]
  },
  {
   "cell_type": "code",
   "execution_count": 39,
   "metadata": {},
   "outputs": [
    {
     "data": {
      "text/plain": [
       "0.41781727459845186"
      ]
     },
     "execution_count": 39,
     "metadata": {},
     "output_type": "execute_result"
    }
   ],
   "source": [
    "# Returns the drift in the target feature\n",
    "\n",
    "from datarobot.enums import DATA_DRIFT_METRIC\n",
    "\n",
    "target_drift = deployment.get_target_drift()\n",
    "target_drift.drift_score"
   ]
  },
  {
   "cell_type": "code",
   "execution_count": 40,
   "metadata": {},
   "outputs": [
    {
     "data": {
      "text/plain": [
       "[FeatureDrift(6543eacc46dd8c49b326ae86 | Flight_Number | 2023-10-26 19:00:00+00:00 - 2023-11-02 19:00:00+00:00),\n",
       " FeatureDrift(6543eacc46dd8c49b326ae86 | Date (Day of Week) | 2023-10-26 19:00:00+00:00 - 2023-11-02 19:00:00+00:00),\n",
       " FeatureDrift(6543eacc46dd8c49b326ae86 | Origin_Airport | 2023-10-26 19:00:00+00:00 - 2023-11-02 19:00:00+00:00),\n",
       " FeatureDrift(6543eacc46dd8c49b326ae86 | Destination_Airport | 2023-10-26 19:00:00+00:00 - 2023-11-02 19:00:00+00:00),\n",
       " FeatureDrift(6543eacc46dd8c49b326ae86 | Scheduled_Departure_Time (Hour of Day) | 2023-10-26 19:00:00+00:00 - 2023-11-02 19:00:00+00:00),\n",
       " FeatureDrift(6543eacc46dd8c49b326ae86 | Carrier_Code | 2023-10-26 19:00:00+00:00 - 2023-11-02 19:00:00+00:00),\n",
       " FeatureDrift(6543eacc46dd8c49b326ae86 | Tail_Number | 2023-10-26 19:00:00+00:00 - 2023-11-02 19:00:00+00:00)]"
      ]
     },
     "execution_count": 40,
     "metadata": {},
     "output_type": "execute_result"
    }
   ],
   "source": [
    "# Retrieves drift metrics for features other than the target\n",
    "\n",
    "feature_drift_data = deployment.get_feature_drift()\n",
    "\n",
    "feature_drift_data"
   ]
  },
  {
   "cell_type": "code",
   "execution_count": 41,
   "metadata": {},
   "outputs": [
    {
     "data": {
      "text/plain": [
       "'The feature Date (Day of Week) has drift by 3.176396672912841'"
      ]
     },
     "execution_count": 41,
     "metadata": {},
     "output_type": "execute_result"
    }
   ],
   "source": [
    "# View first feature name and drift\n",
    "\n",
    "feature_drift = feature_drift_data[1]\n",
    "\n",
    "f\"The feature {feature_drift.name} has drift by {feature_drift.drift_score}\""
   ]
  }
 ],
 "metadata": {
  "kernelspec": {
   "display_name": "Python 3",
   "language": "python",
   "name": "python3"
  },
  "language_info": {
   "codemirror_mode": {
    "name": "ipython",
    "version": 3
   },
   "file_extension": ".py",
   "mimetype": "text/x-python",
   "name": "python",
   "nbconvert_exporter": "python",
   "pygments_lexer": "ipython3",
   "version": "3.8.8"
  },
  "vscode": {
   "interpreter": {
    "hash": "aee8b7b246df8f9039afb4144a1f6fd8d2ca17a180786b69acc140d282b71a49"
   }
  }
 },
 "nbformat": 4,
 "nbformat_minor": 4
}
