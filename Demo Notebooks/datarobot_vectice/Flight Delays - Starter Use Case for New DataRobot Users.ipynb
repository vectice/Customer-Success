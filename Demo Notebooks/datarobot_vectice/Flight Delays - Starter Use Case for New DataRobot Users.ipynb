{
 "cells": [
  {
   "cell_type": "markdown",
   "metadata": {
    "application/vnd.databricks.v1+cell": {
     "cellMetadata": {},
     "inputWidgets": {},
     "nuid": "82a1a647-7ddb-4479-aa69-53fcf5b3442f",
     "showTitle": false,
     "title": ""
    }
   },
   "source": [
    "# Starter use case: Predict flight delays\n",
    "\n",
    "Version Date: November 2023"
   ]
  },
  {
   "cell_type": "markdown",
   "metadata": {
    "application/vnd.databricks.v1+cell": {
     "cellMetadata": {},
     "inputWidgets": {},
     "nuid": "b97bb529-aadf-4f31-b4e6-32be5081dbc1",
     "showTitle": false,
     "title": ""
    }
   },
   "source": [
    "## Overview\n",
    "\n",
    "This accelerator aims to assist DataRobot trial users by providing a guided walkthough of the trial experience. DataRobot suggests that you complete the Flight Delays sample use case in the graphical user interface first, and then return to this accelerator. \n",
    "\n",
    "In this notebook, you will:\n",
    "\n",
    " * Create a use case folder.\n",
    " * Import data from an S3 bucket (this differs from the in-software walkthrough tutorial).\n",
    " * Perform a data wrangling operation to create the target feature with code (this also differs from the in-software walkthrough tutorial).\n",
    " * Register the wrangled data set.\n",
    " * Explore the new data set.\n",
    " * Create an experiment and allow DataRobot automation to populate it with many modeling pipelines.\n",
    " * Explore model insights for the best performing model.\n",
    " * View the modeling pipeline for the best performing model.\n",
    " * Register a model in the Model Registry.\n",
    " * Configure a deployment.\n",
    " * Create a deployment.\n",
    " * Make predictions using the deployment.\n",
    " * Review deployment metrics.\n",
    "\n",
    "\n",
    "### Data source\n",
    "\n",
    "Information on flight delays is made available by the [Bureau of Transportation Statistics](https://www.transtats.bts.gov/ONTIME/Departures.aspx). DataRobot downloaded data from this website in April 2023 and made minor modifications to prepare it for use in this accelerator. \n",
    "\n",
    "To narrow down the amount of data involved, the dataset assembled for this use case is limited to January 2023 flights originating in Portland (PDX) and Seattle (SEA) operated by the carriers Alaska Airlines (AS) and United Airlines (UA). \n",
    "\n",
    "### Data contents\n",
    "  \n",
    "There 7671 rows in the training data set with these 15 columns:\n",
    "\n",
    "| Field                      | Data Type         | Description                                                                                           |\n",
    "| -------------------------- | ----------------- | ----------------------------------------------------------------------------------------------------- |\n",
    "| Date                       | str (MM/DD/YYYY) | The date of the flight.                                                                                |\n",
    "| Carrier Code               | categorical       | The carrier code of the airline (one of AS, UA).                                               |\n",
    "| Origin Airport             | categorical       | The three-letter airport code of the origin airport (one of PDX, SEA).                            |\n",
    "| Flight Number              | numeric           | The flight number for the flight (needs to be converted to categorical).                               |\n",
    "| Tail Number                | categorical       | The tail number of the aircraft.                                                                       |\n",
    "| Destination Airport        | categorical       | The three-letter airport code of the destination airport (many variants).                              |\n",
    "| Scheduled Departure Time   | time (HH:MM)      | The 24-hour scheduled departure time of the flight, in the origin airport's timezone.                  |\n",
    "| Take-Off Delay Minutes     | numeric           | The number of minutes past the scheduled departure time that the flight took off (also known as wheels-up time). |\n",
    " \n"
   ]
  },
  {
   "cell_type": "markdown",
   "metadata": {
    "application/vnd.databricks.v1+cell": {
     "cellMetadata": {},
     "inputWidgets": {},
     "nuid": "7c9ad193-379d-4b1a-9cc3-32471c19ddbe",
     "showTitle": false,
     "title": ""
    }
   },
   "source": [
    "## Setup\n",
    "\n",
    "### Import libraries\n",
    "\n",
    "The first cell of the notebook imports necessary packages, and sets up the connection to the DataRobot platform. This accelerator uses Use Cases to organize related AI assets into a folder. Use Cases was added to the DataRobot Python package in version 3.2.0. "
   ]
  },
  {
   "cell_type": "code",
   "execution_count": 0,
   "metadata": {
    "application/vnd.databricks.v1+cell": {
     "cellMetadata": {
      "byteLimit": 2048000,
      "rowLimit": 10000
     },
     "inputWidgets": {},
     "nuid": "ccfdafc6-b469-42a5-86f1-79d61c174642",
     "showTitle": false,
     "title": ""
    }
   },
   "outputs": [],
   "source": [
    "import datarobot as dr\n",
    "import matplotlib.pyplot as plt\n",
    "import numpy as np\n",
    "import pandas as pd"
   ]
  },
  {
   "cell_type": "code",
   "execution_count": 0,
   "metadata": {
    "application/vnd.databricks.v1+cell": {
     "cellMetadata": {
      "byteLimit": 2048000,
      "rowLimit": 10000
     },
     "inputWidgets": {},
     "nuid": "448dece8-83aa-4d40-8dac-22084a7e025b",
     "showTitle": false,
     "title": ""
    }
   },
   "outputs": [],
   "source": [
    "print(dr.__version__)"
   ]
  },
  {
   "cell_type": "code",
   "execution_count": 0,
   "metadata": {
    "application/vnd.databricks.v1+cell": {
     "cellMetadata": {},
     "inputWidgets": {},
     "nuid": "28d5dbb5-912a-4ccd-8394-c2e6bc2bbe68",
     "showTitle": false,
     "title": ""
    }
   },
   "outputs": [],
   "source": [
    "# Upgrade datarobot package to at least 3.2.0\n",
    "# pip install --upgrade datarobot"
   ]
  },
  {
   "cell_type": "markdown",
   "metadata": {
    "application/vnd.databricks.v1+cell": {
     "cellMetadata": {},
     "inputWidgets": {},
     "nuid": "57bb4e10-aefe-4949-8085-0f3d17e85ca1",
     "showTitle": false,
     "title": ""
    }
   },
   "source": [
    "### Connect to DataRobot\n",
    "\n",
    "Read more about different options for [connecting to DataRobot from the Python client](https://docs.datarobot.com/en/docs/api/api-quickstart/api-qs.html).\n",
    " "
   ]
  },
  {
   "cell_type": "code",
   "execution_count": 0,
   "metadata": {
    "application/vnd.databricks.v1+cell": {
     "cellMetadata": {
      "byteLimit": 2048000,
      "rowLimit": 10000
     },
     "inputWidgets": {},
     "nuid": "0551b02e-0cda-486c-9448-bc290d15a925",
     "showTitle": false,
     "title": ""
    }
   },
   "outputs": [],
   "source": [
    "# Connect to DataRobot when using DataRobot Notebooks\n",
    "dr.Client(token=\"\", endpoint=\"https://app.datarobot.com/api/v2\")"
   ]
  },
  {
   "cell_type": "code",
   "execution_count": 0,
   "metadata": {
    "application/vnd.databricks.v1+cell": {
     "cellMetadata": {
      "byteLimit": 2048000,
      "rowLimit": 10000
     },
     "inputWidgets": {},
     "nuid": "81e8728c-1b5e-42ef-a9e6-53eff82b30c3",
     "showTitle": false,
     "title": ""
    }
   },
   "outputs": [],
   "source": [
    "# Connect to Vectice\n",
    "from vectice import autolog\n",
    "autolog.config(api_token=\"\", phase=\"PHA-4046\")"
   ]
  },
  {
   "cell_type": "code",
   "execution_count": 0,
   "metadata": {
    "application/vnd.databricks.v1+cell": {
     "cellMetadata": {},
     "inputWidgets": {},
     "nuid": "d1101880-e0de-4ab3-a3d8-8fdf3cdc29b1",
     "showTitle": false,
     "title": ""
    }
   },
   "outputs": [],
   "source": [
    "# or use a config file\n",
    "# dr.Client(config_path = \"/Users/andrea.kropp/datarobot_ee_account_config.yaml\")"
   ]
  },
  {
   "cell_type": "markdown",
   "metadata": {
    "application/vnd.databricks.v1+cell": {
     "cellMetadata": {},
     "inputWidgets": {},
     "nuid": "0a0bde57-ccd9-4db2-9402-26c12ac1c784",
     "showTitle": false,
     "title": ""
    }
   },
   "source": [
    "## Create a new Use Case\n",
    "\n",
    "Create a new use case folder to contain the assets that this accelerator will produce. This notebook will create three datasets, one experiment and one deployment inside the use case folder."
   ]
  },
  {
   "cell_type": "code",
   "execution_count": 0,
   "metadata": {
    "application/vnd.databricks.v1+cell": {
     "cellMetadata": {
      "byteLimit": 2048000,
      "rowLimit": 10000
     },
     "inputWidgets": {},
     "nuid": "c54ac248-8c79-4689-a566-16bf2b9198a0",
     "showTitle": false,
     "title": ""
    }
   },
   "outputs": [],
   "source": [
    "# Create a use case folder\n",
    "\n",
    "flight_delays_use_case = dr.UseCase.create(\n",
    "    name=\"Final Flight Delays Walkthrough from Notebook\",\n",
    "    description=\"Tutorial for understanding end-to-end workflows in DataRobot.\",\n",
    ")\n",
    "\n",
    "flight_delays_use_case.id"
   ]
  },
  {
   "cell_type": "markdown",
   "metadata": {
    "application/vnd.databricks.v1+cell": {
     "cellMetadata": {},
     "inputWidgets": {},
     "nuid": "b52734d3-4ab6-4cb1-9fed-4feda59aa24b",
     "showTitle": false,
     "title": ""
    }
   },
   "source": [
    "## Retrieve the data\n",
    "\n",
    "The data for this use case is provided in DataRobot's Amazon S3 public datasets bucket. There is a 300 KB CSV file used to train the model and a 31 KB CSV file used for performing a batch scoring job.\n",
    "\n",
    "You can download the data to inspect it or add it directly to DataRobot's AI Catalog as shown in this notebook. The datasets can be added to AI Catalog directly from the Amazon S3 bucket.\n",
    "\n",
    "[Download the training data (optional)](https://s3.amazonaws.com/datarobot_public_datasets/ai_accelerators/flight_delays/flight_delays_training.csv) \n",
    "\n",
    "[Download the scoring data (optional](https://s3.amazonaws.com/datarobot_public_datasets/ai_accelerators/flight_delays/flight_delays_scoring.csv) "
   ]
  },
  {
   "cell_type": "markdown",
   "metadata": {
    "application/vnd.databricks.v1+cell": {
     "cellMetadata": {},
     "inputWidgets": {},
     "nuid": "9f6519d7-8d6d-423a-9890-5d6ba9ddd4bb",
     "showTitle": false,
     "title": ""
    }
   },
   "source": [
    "### Upload data to DataRobot \n",
    "\n",
    "The datasets can be added to AI Catalog directly from the Amazon S3 bucket. After they are added, associate them with the current Use Case."
   ]
  },
  {
   "cell_type": "code",
   "execution_count": 0,
   "metadata": {
    "application/vnd.databricks.v1+cell": {
     "cellMetadata": {
      "byteLimit": 2048000,
      "rowLimit": 10000
     },
     "inputWidgets": {},
     "nuid": "ff4b04f7-1284-4901-9d9e-c9d8a991978e",
     "showTitle": false,
     "title": ""
    }
   },
   "outputs": [],
   "source": [
    "training_data = dr.Dataset.upload(\n",
    "    \"https://s3.amazonaws.com/datarobot_public_datasets/ai_accelerators/flight_delays/flight_delays_training.csv\"\n",
    ")\n",
    "training_data.id"
   ]
  },
  {
   "cell_type": "code",
   "execution_count": 0,
   "metadata": {
    "application/vnd.databricks.v1+cell": {
     "cellMetadata": {},
     "inputWidgets": {},
     "nuid": "6dc26edf-aba1-4da3-8ca7-4021a21c25c8",
     "showTitle": false,
     "title": ""
    }
   },
   "outputs": [],
   "source": []
  },
  {
   "cell_type": "code",
   "execution_count": 0,
   "metadata": {
    "application/vnd.databricks.v1+cell": {
     "cellMetadata": {
      "byteLimit": 2048000,
      "rowLimit": 10000
     },
     "inputWidgets": {},
     "nuid": "ec991bc4-7624-421f-9e7e-ee52d9032715",
     "showTitle": false,
     "title": ""
    }
   },
   "outputs": [],
   "source": [
    "scoring_data = dr.Dataset.upload(\n",
    "    \"https://s3.amazonaws.com/datarobot_public_datasets/ai_accelerators/flight_delays/flight_delays_scoring.csv\"\n",
    ")\n",
    "scoring_data.id"
   ]
  },
  {
   "cell_type": "code",
   "execution_count": 0,
   "metadata": {
    "application/vnd.databricks.v1+cell": {
     "cellMetadata": {
      "byteLimit": 2048000,
      "rowLimit": 10000
     },
     "inputWidgets": {},
     "nuid": "79f30b8d-988e-4c28-9229-7f26edcf10ce",
     "showTitle": false,
     "title": ""
    }
   },
   "outputs": [],
   "source": [
    "# Add the two datasets to the use case\n",
    "\n",
    "flight_delays_use_case.add(entity=training_data)\n",
    "flight_delays_use_case.add(entity=scoring_data)\n",
    "flight_delays_use_case.list_datasets()"
   ]
  },
  {
   "cell_type": "markdown",
   "metadata": {
    "application/vnd.databricks.v1+cell": {
     "cellMetadata": {},
     "inputWidgets": {},
     "nuid": "22f8bd3c-fe3f-4004-992d-5a0ccd5e523f",
     "showTitle": false,
     "title": ""
    }
   },
   "source": [
    "## Explore and wrangle the data\n",
    "\n",
    "Access the dataset that has been uploaded to AI Catalog and convert it to a pandas dataframe. Then view the top few rows. Perform a calculation to create a new column. The new column will be used as the target for the binary classifier, so this step is required."
   ]
  },
  {
   "cell_type": "markdown",
   "metadata": {
    "application/vnd.databricks.v1+cell": {
     "cellMetadata": {},
     "inputWidgets": {},
     "nuid": "32b77542-950e-48cc-bddb-7489ee15d3ea",
     "showTitle": false,
     "title": ""
    }
   },
   "source": [
    "#### View dataset"
   ]
  },
  {
   "cell_type": "code",
   "execution_count": 0,
   "metadata": {
    "application/vnd.databricks.v1+cell": {
     "cellMetadata": {
      "byteLimit": 2048000,
      "rowLimit": 10000
     },
     "inputWidgets": {},
     "nuid": "79d676c4-fd88-41d9-bc34-a3c5a38a4ded",
     "showTitle": false,
     "title": ""
    }
   },
   "outputs": [],
   "source": [
    "# Retrieve the data set locally and convert it to a pandas dataframe\n",
    "df = dr.Dataset.get(training_data.id).get_as_dataframe()\n",
    "df.head(10)\n",
    "autolog.cell(note=\"Training Dataset\")"
   ]
  },
  {
   "cell_type": "code",
   "execution_count": 0,
   "metadata": {
    "application/vnd.databricks.v1+cell": {
     "cellMetadata": {
      "byteLimit": 2048000,
      "rowLimit": 10000
     },
     "inputWidgets": {},
     "nuid": "fe10fd06-96a2-4c1b-bf31-dc120ea65aa9",
     "showTitle": false,
     "title": ""
    }
   },
   "outputs": [],
   "source": [
    "# Explore the data provided with some plots\n",
    "\n",
    "plt.rcParams[\"axes.labelsize\"] = 10\n",
    "plt.rcParams[\"axes.titlesize\"] = 14\n",
    "plt.rcParams[\"xtick.labelsize\"] = 10\n",
    "plt.rcParams[\"ytick.labelsize\"] = 10\n",
    "plt.rcParams[\"figure.titlesize\"] = 14\n",
    "\n",
    "fig, axes = plt.subplots(nrows=2, ncols=2, figsize=(10, 10), tight_layout=True)\n",
    "\n",
    "plt.subplot(2, 2, 1)\n",
    "plt.hist(df[\"Take_Off_Delay_Minutes\"], bins=100)\n",
    "plt.title(\n",
    "    \"Histogram of Flight Delays\",\n",
    ")\n",
    "plt.ylabel(\"Flight Count\")\n",
    "plt.xlabel(\"Minutes Delayed\")\n",
    "\n",
    "\n",
    "plt.subplot(2, 2, 2)\n",
    "df[\"Origin_Airport\"].value_counts().sort_values().plot(kind=\"barh\")\n",
    "plt.title(\"Flight Count by Origin\")\n",
    "plt.xlabel(\"Flight Count\")\n",
    "\n",
    "plt.subplot(2, 2, 3)\n",
    "df[\"Destination_Airport\"].value_counts().sort_values()[0:15].plot(kind=\"barh\")\n",
    "plt.title(\"Flight Count by Destination (Top 15)\")\n",
    "plt.xlabel(\"Flight Count\")\n",
    "plt.savefig(\"Flight Count by Destination Top 15.png\")\n",
    "\n",
    "plt.subplot(2, 2, 4)\n",
    "df[\"Carrier_Code\"].value_counts().sort_values().plot(kind=\"barh\")\n",
    "plt.title(\"Flight Count by Carrier\")\n",
    "plt.xlabel(\"Flight Count\")\n",
    "\n",
    "\n",
    "plt.savefig(\"data_exploration.png\")\n",
    "autolog.cell(note=\"Data exploration\")"
   ]
  },
  {
   "cell_type": "markdown",
   "metadata": {
    "application/vnd.databricks.v1+cell": {
     "cellMetadata": {},
     "inputWidgets": {},
     "nuid": "bc91f1f6-13c5-4cde-96d6-b96cc17d39e9",
     "showTitle": false,
     "title": ""
    }
   },
   "source": [
    "### Perform one data wrangling operation\n",
    "\n",
    "The training data contains the flight delay in minutes with the feature name `TAKE_OFF_DELAY_MINUTES`. Compute a new binary feature to indicate if the delay is greater than 30 minutes named `TAKE_OFF_DELAY_GREATER_THAN_30`."
   ]
  },
  {
   "cell_type": "code",
   "execution_count": 0,
   "metadata": {
    "application/vnd.databricks.v1+cell": {
     "cellMetadata": {
      "byteLimit": 2048000,
      "rowLimit": 10000
     },
     "inputWidgets": {},
     "nuid": "bce497aa-2b67-4f9d-80b8-b566e1ca1fbd",
     "showTitle": false,
     "title": ""
    }
   },
   "outputs": [],
   "source": [
    "# Calculate whether the delay exceeds 30 minutes\n",
    "df[\"TAKE_OFF_DELAY_GREATER_THAN_30\"] = np.where(df[\"Take_Off_Delay_Minutes\"] > 30, 1, 0)\n",
    "\n",
    "# Calculate the percentage of all flights delayed by more than 30 minutes\n",
    "np.mean(df[\"TAKE_OFF_DELAY_GREATER_THAN_30\"])\n",
    "\n",
    "autolog.cell(note=\"new df 2\")"
   ]
  },
  {
   "cell_type": "code",
   "execution_count": 0,
   "metadata": {
    "application/vnd.databricks.v1+cell": {
     "cellMetadata": {
      "byteLimit": 2048000,
      "rowLimit": 10000
     },
     "inputWidgets": {},
     "nuid": "56cc3d64-6cc0-4b94-a4bb-b5c7bb96e6b2",
     "showTitle": false,
     "title": ""
    }
   },
   "outputs": [],
   "source": [
    "# Add the wrangled data to the Use Case; obtain the unique identifier for the dataset\n",
    "df_final = dr.Dataset.create_from_in_memory_data(\n",
    "    data_frame=df, use_cases=flight_delays_use_case, fname=\"flight delays wrangled\"\n",
    ")\n",
    "df_wrangled2 = df\n",
    "autolog.cell(note=\"The training data contains the flight delay in minutes with the feature name TAKE_OFF_DELAY_MINUTES.\\n Compute a new binary feature to indicate if the delay is greater than 30 minutes named TAKE_OFF_DELAY_GREATER_THAN_30.\")"
   ]
  },
  {
   "cell_type": "markdown",
   "metadata": {
    "application/vnd.databricks.v1+cell": {
     "cellMetadata": {},
     "inputWidgets": {},
     "nuid": "c84f2d23-9bc0-4f80-ae8f-20f78504cd9b",
     "showTitle": false,
     "title": ""
    }
   },
   "source": [
    "## Create an Experiment\n",
    "\n",
    "To create an experiment project from a dataset, use `create_from_dataset()`.\n",
    "\n",
    "Start a new project and obtain its ID number for future reference. If you wish, you can open the DataRobot graphical user interface and you'll see a new Experiment project listed after you execute the next cell."
   ]
  },
  {
   "cell_type": "code",
   "execution_count": 0,
   "metadata": {
    "application/vnd.databricks.v1+cell": {
     "cellMetadata": {
      "byteLimit": 2048000,
      "rowLimit": 10000
     },
     "inputWidgets": {},
     "nuid": "3bb954a8-6491-4b85-ade4-3191850b73fd",
     "showTitle": false,
     "title": ""
    }
   },
   "outputs": [],
   "source": [
    "# Create a new experiment project from a previously registered dataset\n",
    "# Place the project in the same use case folder\n",
    "\n",
    "project = dr.Project.create_from_dataset(\n",
    "    df_final.id,\n",
    "    project_name=\"Flight Delays Walkthrough Experiments\",\n",
    "    use_case=flight_delays_use_case,\n",
    ")\n",
    "project.id"
   ]
  },
  {
   "cell_type": "markdown",
   "metadata": {
    "application/vnd.databricks.v1+cell": {
     "cellMetadata": {},
     "inputWidgets": {},
     "nuid": "354cd652-2b29-4114-8de7-fb77d7238df2",
     "showTitle": false,
     "title": ""
    }
   },
   "source": [
    "### Start modeling\n",
    "\n",
    "The project is ready to start modeling. There are numerous configurable settings which are out of scope of this accelerator. Visit the [DataRobot documentation](https://docs.datarobot.com/en/docs/modeling/index.html) to learn more about advanced options, modeling modes, worker counts and selecting an optimization metric.\n",
    "\n",
    "You can optionally open the DataRobot GUI to see a new experiment listed after you execute the next cell."
   ]
  },
  {
   "cell_type": "code",
   "execution_count": 0,
   "metadata": {
    "application/vnd.databricks.v1+cell": {
     "cellMetadata": {
      "byteLimit": 2048000,
      "rowLimit": 10000
     },
     "inputWidgets": {},
     "nuid": "f395ac6a-77c2-4c68-b701-84c4dcaa4864",
     "showTitle": false,
     "title": ""
    }
   },
   "outputs": [],
   "source": [
    "# Start modeling. Once you execute this, the initial settings can no longer be changed.\n",
    "project.analyze_and_model(target=\"TAKE_OFF_DELAY_GREATER_THAN_30\")\n",
    "\n",
    "# You can optionally open the DataRobot GUI to see the modeling in progress.\n",
    "project.wait_for_autopilot(timeout=3600)"
   ]
  },
  {
   "cell_type": "markdown",
   "metadata": {
    "application/vnd.databricks.v1+cell": {
     "cellMetadata": {},
     "inputWidgets": {},
     "nuid": "e78a42ea-d19e-46b2-bdd8-473f1f9c9a24",
     "showTitle": false,
     "title": ""
    }
   },
   "source": [
    "## Examine Experiment contents and explore the top model\n",
    "\n",
    "List all the models that have been created within the project. Then you can learn more about the top performing model."
   ]
  },
  {
   "cell_type": "code",
   "execution_count": 0,
   "metadata": {
    "application/vnd.databricks.v1+cell": {
     "cellMetadata": {
      "byteLimit": 2048000,
      "rowLimit": 10000
     },
     "inputWidgets": {},
     "nuid": "02ad81bd-cf4e-4321-8c33-10af8e8b143f",
     "showTitle": false,
     "title": ""
    }
   },
   "outputs": [],
   "source": [
    "# Get all the models for the project. The top model for the optimization metric on the validation set is the first one.\n",
    "models = project.get_models()\n",
    "models"
   ]
  },
  {
   "cell_type": "code",
   "execution_count": 0,
   "metadata": {
    "application/vnd.databricks.v1+cell": {
     "cellMetadata": {},
     "inputWidgets": {},
     "nuid": "a22ba3da-8244-4f3e-b96c-5b13aac32671",
     "showTitle": false,
     "title": ""
    }
   },
   "outputs": [],
   "source": [
    "# Retrieve the model object for the top performing model. Select one of the models to examine more closely.\n",
    "# Note that model comparison is better conducted in the graphical user interface.\n",
    "\n",
    "top_model = project.get_top_model(metric=\"LogLoss\")\n",
    "top_model.id"
   ]
  },
  {
   "cell_type": "code",
   "execution_count": 0,
   "metadata": {
    "application/vnd.databricks.v1+cell": {
     "cellMetadata": {},
     "inputWidgets": {},
     "nuid": "20ff3672-cb38-4189-a467-472a8665c587",
     "showTitle": false,
     "title": ""
    }
   },
   "outputs": [],
   "source": [
    "# Print the LogLoss and AUC for the top model\n",
    "f\"The top model is a {top_model.model_type} with a Log Loss of {top_model.metrics['LogLoss']['crossValidation']} and an AUC of {top_model.metrics['AUC']['crossValidation']}.\""
   ]
  },
  {
   "cell_type": "markdown",
   "metadata": {
    "application/vnd.databricks.v1+cell": {
     "cellMetadata": {},
     "inputWidgets": {},
     "nuid": "d0e4c4a2-5909-41e0-a1d5-62f6ccf8e68a",
     "showTitle": false,
     "title": ""
    }
   },
   "source": [
    "### Feature Impact\n",
    "\n",
    "Learn about the features used in the top performing model and visualize which features are driving model decisions."
   ]
  },
  {
   "cell_type": "code",
   "execution_count": 0,
   "metadata": {
    "application/vnd.databricks.v1+cell": {
     "cellMetadata": {},
     "inputWidgets": {},
     "nuid": "59b376d9-69e5-4811-aabc-f28a9f03e09b",
     "showTitle": false,
     "title": ""
    }
   },
   "outputs": [],
   "source": [
    "# Get Feature Impact for the top model\n",
    "feature_impact = top_model.get_or_request_feature_impact()\n",
    "\n",
    "# Save feature impact in a pandas dataframe\n",
    "fi_df = pd.DataFrame(feature_impact)\n",
    "\n",
    "fi_df"
   ]
  },
  {
   "cell_type": "markdown",
   "metadata": {
    "application/vnd.databricks.v1+cell": {
     "cellMetadata": {},
     "inputWidgets": {},
     "nuid": "6ff8f518-79f6-4bc4-9739-98cc61068429",
     "showTitle": false,
     "title": ""
    }
   },
   "source": [
    "### Blueprint\n",
    "\n",
    "See the full machine leanring pipeline for the top model including preprocessing steps."
   ]
  },
  {
   "cell_type": "code",
   "execution_count": 0,
   "metadata": {
    "application/vnd.databricks.v1+cell": {
     "cellMetadata": {},
     "inputWidgets": {},
     "nuid": "91139c40-0fd3-45ac-923d-284863ec6260",
     "showTitle": false,
     "title": ""
    }
   },
   "outputs": [],
   "source": [
    "# Retrieve the blueprint of the top model\n",
    "blueprint = dr.Blueprint.get(project.id, top_model.blueprint_id)\n",
    "\n",
    "print(blueprint.processes)"
   ]
  },
  {
   "cell_type": "markdown",
   "metadata": {
    "application/vnd.databricks.v1+cell": {
     "cellMetadata": {},
     "inputWidgets": {},
     "nuid": "c3cc2421-fdcd-465a-9a50-d2ab150c3e6f",
     "showTitle": false,
     "title": ""
    }
   },
   "source": [
    "## Register the model\n",
    "\n",
    "Register the top model in the Model Registry. This will be possible with future versions of the DataRobot Python package."
   ]
  },
  {
   "cell_type": "markdown",
   "metadata": {
    "application/vnd.databricks.v1+cell": {
     "cellMetadata": {},
     "inputWidgets": {},
     "nuid": "ed8daaa3-adb2-404d-acd5-a31abc2a9101",
     "showTitle": false,
     "title": ""
    }
   },
   "source": [
    "## Deploy the model\n",
    "\n",
    "Deploy the model to a DataRobot prediction server."
   ]
  },
  {
   "cell_type": "code",
   "execution_count": 0,
   "metadata": {
    "application/vnd.databricks.v1+cell": {
     "cellMetadata": {},
     "inputWidgets": {},
     "nuid": "b18bbc42-bf31-4515-9aad-3c84d4dce756",
     "showTitle": false,
     "title": ""
    }
   },
   "outputs": [],
   "source": [
    "# The default prediction server is used when making predictions against the deployment, and is a requirement for creating a deployment on DataRobot cloud.\n",
    "prediction_server = dr.PredictionServer.list()[0]\n",
    "prediction_server"
   ]
  },
  {
   "cell_type": "code",
   "execution_count": 0,
   "metadata": {
    "application/vnd.databricks.v1+cell": {
     "cellMetadata": {},
     "inputWidgets": {},
     "nuid": "c1ba4cde-1d5b-4344-9bf8-5415f077168d",
     "showTitle": false,
     "title": ""
    }
   },
   "outputs": [],
   "source": [
    "# Create a new deployment\n",
    "\n",
    "deployment = dr.Deployment.create_from_learning_model(\n",
    "    top_model.id,\n",
    "    label=\"Flight Delays Deployment\",\n",
    "    description=\"Deployment from notebook of top model\",\n",
    "    default_prediction_server_id=prediction_server.id,\n",
    ")\n",
    "\n",
    "deployment.id"
   ]
  },
  {
   "cell_type": "code",
   "execution_count": 0,
   "metadata": {
    "application/vnd.databricks.v1+cell": {
     "cellMetadata": {},
     "inputWidgets": {},
     "nuid": "311540e3-3b66-4315-a1c5-af0e2bb77202",
     "showTitle": false,
     "title": ""
    }
   },
   "outputs": [],
   "source": [
    "# Update deployment settings to enable draft tracking\n",
    "\n",
    "deployment.update_drift_tracking_settings(\n",
    "    target_drift_enabled=True, feature_drift_enabled=True\n",
    ")"
   ]
  },
  {
   "cell_type": "markdown",
   "metadata": {
    "application/vnd.databricks.v1+cell": {
     "cellMetadata": {},
     "inputWidgets": {},
     "nuid": "1f35913b-d4e2-4b7d-940a-e2fffec4bd83",
     "showTitle": false,
     "title": ""
    }
   },
   "source": [
    "## Make batch predictions\n",
    "\n",
    "Make predictions using the scoring dataset. There are many options for how to score new data. Read about all your [choices for making predictions](https://datarobot-public-api-client.readthedocs-hosted.com/en/v3.2.1/reference/predictions/batch_predictions.html)."
   ]
  },
  {
   "cell_type": "code",
   "execution_count": 0,
   "metadata": {
    "application/vnd.databricks.v1+cell": {
     "cellMetadata": {},
     "inputWidgets": {},
     "nuid": "4e12ac1b-1eef-4c6a-bd1b-7f04e01cee4e",
     "showTitle": false,
     "title": ""
    }
   },
   "outputs": [],
   "source": [
    "# Option 1: Score an in-memory Pandas DataFrame.\n",
    "\n",
    "scoring_df = dr.Dataset.get(scoring_data.id).get_as_dataframe()\n",
    "scoring_df.head(5)"
   ]
  },
  {
   "cell_type": "code",
   "execution_count": 0,
   "metadata": {
    "application/vnd.databricks.v1+cell": {
     "cellMetadata": {},
     "inputWidgets": {},
     "nuid": "14327335-8024-466a-a7c9-e4e3532fd21a",
     "showTitle": false,
     "title": ""
    }
   },
   "outputs": [],
   "source": [
    "# The method returns a copy of the job status and the updated DataFrame with the predictions added.\n",
    "# So your DataFrame will now contain the following extra columns:\n",
    "\n",
    "job, scoring_df = dr.BatchPredictionJob.score_pandas(deployment.id, scoring_df)\n",
    "\n",
    "scoring_df.head(5)"
   ]
  },
  {
   "cell_type": "markdown",
   "metadata": {
    "application/vnd.databricks.v1+cell": {
     "cellMetadata": {},
     "inputWidgets": {},
     "nuid": "89aa0bc8-6548-4ff8-ab47-a6eeeaa490da",
     "showTitle": false,
     "title": ""
    }
   },
   "source": [
    "## Review deployment metrics\n",
    "\n",
    "Having scored some data, you can now view the monitoring metrics associated with the deployment. Learn about all [monitoring metrics associated with the Deployment](https://datarobot-public-api-client.readthedocs-hosted.com/en/v3.2.1/reference/mlops/deployment.html?highlight=service%20health#monitoring)"
   ]
  },
  {
   "cell_type": "code",
   "execution_count": 0,
   "metadata": {
    "application/vnd.databricks.v1+cell": {
     "cellMetadata": {},
     "inputWidgets": {},
     "nuid": "0e48cd0f-7c9d-4d72-95bc-6564a1f0a135",
     "showTitle": false,
     "title": ""
    }
   },
   "outputs": [],
   "source": [
    "# Wait a few seconds to be sure that monitoring metrics will be available when requested\n",
    "import time\n",
    "\n",
    "time.sleep(15)  # Sleep for 15 seconds"
   ]
  },
  {
   "cell_type": "code",
   "execution_count": 0,
   "metadata": {
    "application/vnd.databricks.v1+cell": {
     "cellMetadata": {},
     "inputWidgets": {},
     "nuid": "67923704-c3f2-464c-968a-8695e27a8c57",
     "showTitle": false,
     "title": ""
    }
   },
   "outputs": [],
   "source": [
    "# Returns the total number of predictions made\n",
    "\n",
    "from datarobot.enums import SERVICE_STAT_METRIC\n",
    "\n",
    "service_stats = deployment.get_service_stats()\n",
    "\n",
    "service_stats[SERVICE_STAT_METRIC.TOTAL_PREDICTIONS]"
   ]
  },
  {
   "cell_type": "code",
   "execution_count": 0,
   "metadata": {
    "application/vnd.databricks.v1+cell": {
     "cellMetadata": {},
     "inputWidgets": {},
     "nuid": "7d6d41d2-6807-47b4-bf35-be469667afcf",
     "showTitle": false,
     "title": ""
    }
   },
   "outputs": [],
   "source": [
    "# Returns the drift in the target feature\n",
    "\n",
    "from datarobot.enums import DATA_DRIFT_METRIC\n",
    "\n",
    "target_drift = deployment.get_target_drift()\n",
    "target_drift.drift_score"
   ]
  },
  {
   "cell_type": "code",
   "execution_count": 0,
   "metadata": {
    "application/vnd.databricks.v1+cell": {
     "cellMetadata": {},
     "inputWidgets": {},
     "nuid": "a9a0338b-cb9c-4f6a-a677-f4c86abd26ea",
     "showTitle": false,
     "title": ""
    }
   },
   "outputs": [],
   "source": [
    "# Retrieves drift metrics for features other than the target\n",
    "\n",
    "feature_drift_data = deployment.get_feature_drift()\n",
    "\n",
    "feature_drift_data"
   ]
  },
  {
   "cell_type": "code",
   "execution_count": 0,
   "metadata": {
    "application/vnd.databricks.v1+cell": {
     "cellMetadata": {},
     "inputWidgets": {},
     "nuid": "42a6dc82-a8f9-4bde-9981-37d5a000a3de",
     "showTitle": false,
     "title": ""
    }
   },
   "outputs": [],
   "source": [
    "# View first feature name and drift\n",
    "\n",
    "feature_drift = feature_drift_data[1]\n",
    "\n",
    "f\"The feature {feature_drift.name} has drift by {feature_drift.drift_score}\""
   ]
  }
 ],
 "metadata": {
  "application/vnd.databricks.v1+notebook": {
   "dashboards": [],
   "language": "python",
   "notebookMetadata": {
    "pythonIndentUnit": 4
   },
   "notebookName": "Flight Delays - Starter Use Case for New DataRobot Users",
   "widgets": {}
  },
  "kernelspec": {
   "display_name": "Python 3",
   "language": "python",
   "name": "python3"
  },
  "language_info": {
   "codemirror_mode": {
    "name": "ipython",
    "version": 3
   },
   "file_extension": ".py",
   "mimetype": "text/x-python",
   "name": "python",
   "nbconvert_exporter": "python",
   "pygments_lexer": "ipython3",
   "version": "3.8.8"
  },
  "vscode": {
   "interpreter": {
    "hash": "aee8b7b246df8f9039afb4144a1f6fd8d2ca17a180786b69acc140d282b71a49"
   }
  }
 },
 "nbformat": 4,
 "nbformat_minor": 0
}
