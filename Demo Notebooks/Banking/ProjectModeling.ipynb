{
  "cells": [
    {
      "cell_type": "code",
      "execution_count": 11,
      "id": "cc5eb131-23c1-411e-aa1e-9954ea69aec0",
      "metadata": {
        "colab": {
          "base_uri": "https://localhost:8080/"
        },
        "id": "cc5eb131-23c1-411e-aa1e-9954ea69aec0",
        "outputId": "876050ef-be3e-45d8-ceb1-4c733af33949",
        "tags": []
      },
      "outputs": [
        {
          "name": "stderr",
          "output_type": "stream",
          "text": [
            "VECTICE_API_ENDPOINT is deprecated and will be removed in 23.3.1.0, please use VECTICE_HOST instead.\n",
            "Welcome, 'Eric Barre'. You`re now successfully connected to the project '_FFBank & LuxAir Co-Branded Credit Card Initial offer' in Vectice.\n",
            "\n",
            "To access a specific phase, use \u001b[1mproject\u001b[0m.phase(Phase ID)\n",
            "To get a list of phases you can access and their IDs, use \u001b[1mproject\u001b[0m.list_phases()\n",
            "\n",
            "For quick access to the list of phases in the Vectice web app, visit:\n",
            "https://app.vectice.com/browse/project/PRJ-189\n",
            "Phase 'Modeling' successfully retrieved.\"\n",
            "\n",
            "For quick access to the Phase in the Vectice web app, visit:\n",
            "https://app.vectice.com/browse/phase/PHA-1074\n",
            "New Iteration number 33 created.\n",
            "\n",
            "For quick access to the Iteration in the Vectice web app, visit:\n",
            "https://app.vectice.com/browse/iteration/ITR-2054\n"
          ]
        }
      ],
      "source": [
        "from vectice import connect\n",
        "vec_project = connect(config=\"token.json\")\n",
        "iteration = vec_project.phase(\"Modeling\").create_iteration()"
      ]
    },
    {
      "attachments": {},
      "cell_type": "markdown",
      "id": "a87f4e1c",
      "metadata": {},
      "source": [
        "# Vectice auto-document your model"
      ]
    },
    {
      "attachments": {},
      "cell_type": "markdown",
      "id": "6958f765-98a7-4e7b-a4af-dfbcff249ed4",
      "metadata": {
        "id": "6958f765-98a7-4e7b-a4af-dfbcff249ed4",
        "tags": []
      },
      "source": [
        "### Read dataset for modeling:\n",
        " - modelingdata - Saved from DataPrep to BQ\n"
      ]
    },
    {
      "cell_type": "code",
      "execution_count": 12,
      "id": "d05a5d74-5e95-47d1-9cf0-c7458b5619d7",
      "metadata": {
        "colab": {
          "base_uri": "https://localhost:8080/"
        },
        "id": "d05a5d74-5e95-47d1-9cf0-c7458b5619d7",
        "outputId": "8fa3f3e9-263a-4c62-ddf5-79beff2beefb"
      },
      "outputs": [],
      "source": [
        "# Connect to BigQuery Dev using Service Account\n",
        "from google.cloud import bigquery\n",
        "from google.oauth2 import service_account\n",
        "creds = service_account.Credentials.from_service_account_file(\"bq_dev_sa.json\", scopes=[\"https://www.googleapis.com/auth/cloud-platform\"])\n",
        "\n",
        "bigquery_client = bigquery.Client(\n",
        "    credentials= creds,\n",
        "    project=creds.project_id\n",
        ")"
      ]
    },
    {
      "attachments": {},
      "cell_type": "markdown",
      "id": "a_GFv6vBdDjz",
      "metadata": {
        "id": "a_GFv6vBdDjz"
      },
      "source": [
        "Query PTY_ID_MAIN and HIST_TRX from our Dev BigQUery env. Retrieving full tables, we will need to remove non US customers from the resultsets as per compliance."
      ]
    },
    {
      "cell_type": "code",
      "execution_count": 13,
      "id": "def55e9f-c05c-4c34-accd-4beceeeb317e",
      "metadata": {
        "colab": {
          "base_uri": "https://localhost:8080/",
          "height": 458
        },
        "id": "def55e9f-c05c-4c34-accd-4beceeeb317e",
        "outputId": "a7c98b38-a24f-4df9-e1ca-86840f214608",
        "tags": []
      },
      "outputs": [
        {
          "data": {
            "text/html": [
              "<div>\n",
              "<style scoped>\n",
              "    .dataframe tbody tr th:only-of-type {\n",
              "        vertical-align: middle;\n",
              "    }\n",
              "\n",
              "    .dataframe tbody tr th {\n",
              "        vertical-align: top;\n",
              "    }\n",
              "\n",
              "    .dataframe thead th {\n",
              "        text-align: right;\n",
              "    }\n",
              "</style>\n",
              "<table border=\"1\" class=\"dataframe\">\n",
              "  <thead>\n",
              "    <tr style=\"text-align: right;\">\n",
              "      <th></th>\n",
              "      <th>Customer_PTY_Id</th>\n",
              "      <th>Customer_Surname</th>\n",
              "      <th>Customer_Given_Name</th>\n",
              "      <th>Customer_Email</th>\n",
              "      <th>Customer_Gender</th>\n",
              "      <th>Customer_DOB</th>\n",
              "      <th>Customer_POB</th>\n",
              "      <th>Customer_Street_Address</th>\n",
              "      <th>Customer_State_Address</th>\n",
              "      <th>Customer_Zip_Address</th>\n",
              "      <th>...</th>\n",
              "      <th>CUST_COUNTRY</th>\n",
              "      <th>CUST_CTRY_CD</th>\n",
              "      <th>CUST_PHONE</th>\n",
              "      <th>YTD_STATUS</th>\n",
              "      <th>YTD_MILES</th>\n",
              "      <th>YTD_SEGMENTS</th>\n",
              "      <th>ORI_AIRPORT</th>\n",
              "      <th>CUST_F_NAME</th>\n",
              "      <th>CUST_L_NAME</th>\n",
              "      <th>accepted_offer</th>\n",
              "    </tr>\n",
              "  </thead>\n",
              "  <tbody>\n",
              "    <tr>\n",
              "      <th>0</th>\n",
              "      <td>28-5818843</td>\n",
              "      <td>Gebuhr</td>\n",
              "      <td>Isaiah</td>\n",
              "      <td>igebuhrlj@so-net.ne.jp</td>\n",
              "      <td>Male</td>\n",
              "      <td>1941-04-28</td>\n",
              "      <td>San Jose</td>\n",
              "      <td>70 2nd Park</td>\n",
              "      <td>CA</td>\n",
              "      <td>95173</td>\n",
              "      <td>...</td>\n",
              "      <td>Mexico</td>\n",
              "      <td>MX</td>\n",
              "      <td>155-451-3933</td>\n",
              "      <td>Platinum</td>\n",
              "      <td>5099270</td>\n",
              "      <td>31</td>\n",
              "      <td>CA-BC</td>\n",
              "      <td>Humfried</td>\n",
              "      <td>Minister</td>\n",
              "      <td>1</td>\n",
              "    </tr>\n",
              "    <tr>\n",
              "      <th>1</th>\n",
              "      <td>28-5818843</td>\n",
              "      <td>Gebuhr</td>\n",
              "      <td>Isaiah</td>\n",
              "      <td>igebuhrlj@so-net.ne.jp</td>\n",
              "      <td>Male</td>\n",
              "      <td>1941-04-28</td>\n",
              "      <td>San Jose</td>\n",
              "      <td>70 2nd Park</td>\n",
              "      <td>CA</td>\n",
              "      <td>95173</td>\n",
              "      <td>...</td>\n",
              "      <td>Mexico</td>\n",
              "      <td>MX</td>\n",
              "      <td>155-451-3933</td>\n",
              "      <td>Platinum</td>\n",
              "      <td>5099270</td>\n",
              "      <td>31</td>\n",
              "      <td>CA-BC</td>\n",
              "      <td>Humfried</td>\n",
              "      <td>Minister</td>\n",
              "      <td>1</td>\n",
              "    </tr>\n",
              "    <tr>\n",
              "      <th>2</th>\n",
              "      <td>28-5818843</td>\n",
              "      <td>Gebuhr</td>\n",
              "      <td>Isaiah</td>\n",
              "      <td>igebuhrlj@so-net.ne.jp</td>\n",
              "      <td>Male</td>\n",
              "      <td>1941-04-28</td>\n",
              "      <td>San Jose</td>\n",
              "      <td>70 2nd Park</td>\n",
              "      <td>CA</td>\n",
              "      <td>95173</td>\n",
              "      <td>...</td>\n",
              "      <td>Mexico</td>\n",
              "      <td>MX</td>\n",
              "      <td>155-451-3933</td>\n",
              "      <td>Platinum</td>\n",
              "      <td>5099270</td>\n",
              "      <td>31</td>\n",
              "      <td>CA-BC</td>\n",
              "      <td>Humfried</td>\n",
              "      <td>Minister</td>\n",
              "      <td>1</td>\n",
              "    </tr>\n",
              "    <tr>\n",
              "      <th>3</th>\n",
              "      <td>28-5818843</td>\n",
              "      <td>Gebuhr</td>\n",
              "      <td>Isaiah</td>\n",
              "      <td>igebuhrlj@so-net.ne.jp</td>\n",
              "      <td>Male</td>\n",
              "      <td>1941-04-28</td>\n",
              "      <td>San Jose</td>\n",
              "      <td>70 2nd Park</td>\n",
              "      <td>CA</td>\n",
              "      <td>95173</td>\n",
              "      <td>...</td>\n",
              "      <td>Mexico</td>\n",
              "      <td>MX</td>\n",
              "      <td>155-451-3933</td>\n",
              "      <td>Platinum</td>\n",
              "      <td>5099270</td>\n",
              "      <td>31</td>\n",
              "      <td>CA-BC</td>\n",
              "      <td>Humfried</td>\n",
              "      <td>Minister</td>\n",
              "      <td>1</td>\n",
              "    </tr>\n",
              "    <tr>\n",
              "      <th>4</th>\n",
              "      <td>28-5818843</td>\n",
              "      <td>Gebuhr</td>\n",
              "      <td>Isaiah</td>\n",
              "      <td>igebuhrlj@so-net.ne.jp</td>\n",
              "      <td>Male</td>\n",
              "      <td>1941-04-28</td>\n",
              "      <td>San Jose</td>\n",
              "      <td>70 2nd Park</td>\n",
              "      <td>CA</td>\n",
              "      <td>95173</td>\n",
              "      <td>...</td>\n",
              "      <td>Mexico</td>\n",
              "      <td>MX</td>\n",
              "      <td>155-451-3933</td>\n",
              "      <td>Platinum</td>\n",
              "      <td>5099270</td>\n",
              "      <td>31</td>\n",
              "      <td>CA-BC</td>\n",
              "      <td>Humfried</td>\n",
              "      <td>Minister</td>\n",
              "      <td>1</td>\n",
              "    </tr>\n",
              "  </tbody>\n",
              "</table>\n",
              "<p>5 rows × 31 columns</p>\n",
              "</div>"
            ],
            "text/plain": [
              "  Customer_PTY_Id Customer_Surname Customer_Given_Name   \n",
              "0      28-5818843           Gebuhr              Isaiah  \\\n",
              "1      28-5818843           Gebuhr              Isaiah   \n",
              "2      28-5818843           Gebuhr              Isaiah   \n",
              "3      28-5818843           Gebuhr              Isaiah   \n",
              "4      28-5818843           Gebuhr              Isaiah   \n",
              "\n",
              "           Customer_Email Customer_Gender Customer_DOB Customer_POB   \n",
              "0  igebuhrlj@so-net.ne.jp            Male   1941-04-28     San Jose  \\\n",
              "1  igebuhrlj@so-net.ne.jp            Male   1941-04-28     San Jose   \n",
              "2  igebuhrlj@so-net.ne.jp            Male   1941-04-28     San Jose   \n",
              "3  igebuhrlj@so-net.ne.jp            Male   1941-04-28     San Jose   \n",
              "4  igebuhrlj@so-net.ne.jp            Male   1941-04-28     San Jose   \n",
              "\n",
              "  Customer_Street_Address Customer_State_Address  Customer_Zip_Address  ...   \n",
              "0             70 2nd Park                     CA                 95173  ...  \\\n",
              "1             70 2nd Park                     CA                 95173  ...   \n",
              "2             70 2nd Park                     CA                 95173  ...   \n",
              "3             70 2nd Park                     CA                 95173  ...   \n",
              "4             70 2nd Park                     CA                 95173  ...   \n",
              "\n",
              "   CUST_COUNTRY CUST_CTRY_CD    CUST_PHONE YTD_STATUS YTD_MILES  YTD_SEGMENTS   \n",
              "0        Mexico           MX  155-451-3933   Platinum   5099270            31  \\\n",
              "1        Mexico           MX  155-451-3933   Platinum   5099270            31   \n",
              "2        Mexico           MX  155-451-3933   Platinum   5099270            31   \n",
              "3        Mexico           MX  155-451-3933   Platinum   5099270            31   \n",
              "4        Mexico           MX  155-451-3933   Platinum   5099270            31   \n",
              "\n",
              "  ORI_AIRPORT  CUST_F_NAME CUST_L_NAME accepted_offer  \n",
              "0       CA-BC     Humfried    Minister              1  \n",
              "1       CA-BC     Humfried    Minister              1  \n",
              "2       CA-BC     Humfried    Minister              1  \n",
              "3       CA-BC     Humfried    Minister              1  \n",
              "4       CA-BC     Humfried    Minister              1  \n",
              "\n",
              "[5 rows x 31 columns]"
            ]
          },
          "execution_count": 13,
          "metadata": {},
          "output_type": "execute_result"
        }
      ],
      "source": [
        "# Query ModelingData table\n",
        "qry_ModelingDS = \"SELECT * FROM `solutions-engineering-363108.FFBank_CoBranded_project.modelingdata`\"\n",
        "#Run the query and write result to a pandas data frame\n",
        "Query_Results = bigquery_client.query(qry_ModelingDS)\n",
        "df_qry_ModelingDS = Query_Results.to_dataframe()\n",
        "#View top few rows of result\n",
        "df_qry_ModelingDS.head()"
      ]
    },
    {
      "attachments": {},
      "cell_type": "markdown",
      "id": "7-Np_tRKx4wq",
      "metadata": {
        "id": "7-Np_tRKx4wq"
      },
      "source": [
        "Split the modeling dataset into training, testing and validation datasets"
      ]
    },
    {
      "cell_type": "code",
      "execution_count": 14,
      "id": "tFtB06lJx_e2",
      "metadata": {
        "colab": {
          "base_uri": "https://localhost:8080/",
          "height": 108
        },
        "id": "tFtB06lJx_e2",
        "outputId": "3be35258-6f29-48c8-b28b-06ec08e336d0"
      },
      "outputs": [
        {
          "data": {
            "text/html": [
              "        <script type=\"text/javascript\">\n",
              "        window.PlotlyConfig = {MathJaxConfig: 'local'};\n",
              "        if (window.MathJax && window.MathJax.Hub && window.MathJax.Hub.Config) {window.MathJax.Hub.Config({SVG: {font: \"STIX-Web\"}});}\n",
              "        if (typeof require !== 'undefined') {\n",
              "        require.undef(\"plotly\");\n",
              "        requirejs.config({\n",
              "            paths: {\n",
              "                'plotly': ['https://cdn.plot.ly/plotly-2.24.1.min']\n",
              "            }\n",
              "        });\n",
              "        require(['plotly'], function(Plotly) {\n",
              "            window._Plotly = Plotly;\n",
              "        });\n",
              "        }\n",
              "        </script>\n",
              "        "
            ]
          },
          "metadata": {},
          "output_type": "display_data"
        }
      ],
      "source": [
        "# import some essential math libraries\n",
        "import pandas as pd; import matplotlib.pyplot as plt; import numpy as np\n",
        "import plotly.offline as py; from matplotlib import pyplot as plt\n",
        "import IPython.display\n",
        "%matplotlib inline\n",
        "py.init_notebook_mode(connected=True)\n",
        "\n",
        "# load scikit-learn modeling packages\n",
        "from sklearn.model_selection import train_test_split\n",
        "from sklearn.linear_model import LinearRegression\n",
        "from sklearn.metrics import mean_squared_error,mean_absolute_error\n",
        "import seaborn as sb\n",
        "\n",
        "# specify how much of the dataset to set aside for testing\n",
        "test_size = 0.42\n",
        "# specify a seed value so we can always generate the same split\n",
        "random_state = 58\n",
        "\n",
        "# Generate X_train, X_test, y_train, y_test, which we will need for modeling\n",
        "X = df_qry_ModelingDS.drop(['accepted_offer'], axis=1)\n",
        "y = df_qry_ModelingDS[\"accepted_offer\"]\n",
        "X_train, X_test, y_train, y_test =\\\n",
        "train_test_split(X, y, test_size = test_size, random_state = random_state)\n",
        "\n",
        "# save the 3 split datasets locally\n",
        "X_train.to_csv(\"traindataset.csv\")\n",
        "X_test.to_csv(\"testdataset.csv\")\n",
        "y_test.to_csv(\"validatedataset.csv\")"
      ]
    },
    {
      "cell_type": "code",
      "execution_count": 15,
      "id": "d9c370c9",
      "metadata": {},
      "outputs": [
        {
          "name": "stderr",
          "output_type": "stream",
          "text": [
            "Added Comment to Step: Generate Test Design\n",
            "\n",
            "Link to Step: https://app.vectice.com/browse/iteration/ITR-2054\n",
            "\n"
          ]
        }
      ],
      "source": [
        "# Capture model dataset insights\n",
        "msg = f\"We split the dataset in a training, testing and validation datasets. \"\\\n",
        "      f\"{test_size * 100}% of the data is set aside for testing.\\n \"\\\n",
        "      f\"- Training dataset size: {X_train.shape[0]}\\n \"\\\n",
        "      f\"- Testing dataset size: {X_test.shape[0]}\\n \"\\\n",
        "      f\"- Validation dataset size: {y_test.shape[0]}\\n\"\\\n",
        "      f\"Our seed to generate repeatable datasets is {random_state}\"\n",
        "iteration.step_generate_test_design = msg"
      ]
    },
    {
      "attachments": {},
      "cell_type": "markdown",
      "id": "-0vth_er7YXV",
      "metadata": {
        "id": "-0vth_er7YXV"
      },
      "source": [
        "## Create our Linear Regression model"
      ]
    },
    {
      "cell_type": "code",
      "execution_count": 16,
      "id": "1cJI6WmH7YCq",
      "metadata": {
        "colab": {
          "base_uri": "https://localhost:8080/",
          "height": 543
        },
        "id": "1cJI6WmH7YCq",
        "outputId": "71e63ae0-5402-47cd-9aae-ff50ee78d1bd"
      },
      "outputs": [
        {
          "data": {
            "text/plain": [
              "[<matplotlib.lines.Line2D at 0x7f9618ca5c40>,\n",
              " <matplotlib.lines.Line2D at 0x7f9618ca5be0>,\n",
              " <matplotlib.lines.Line2D at 0x7f9618ca5850>,\n",
              " <matplotlib.lines.Line2D at 0x7f9618ca5ac0>,\n",
              " <matplotlib.lines.Line2D at 0x7f9618ca5880>,\n",
              " <matplotlib.lines.Line2D at 0x7f9618ca5eb0>,\n",
              " <matplotlib.lines.Line2D at 0x7f9618ca5d90>,\n",
              " <matplotlib.lines.Line2D at 0x7f9618ca55e0>,\n",
              " <matplotlib.lines.Line2D at 0x7f9618ca5a30>,\n",
              " <matplotlib.lines.Line2D at 0x7f9618ca5670>,\n",
              " <matplotlib.lines.Line2D at 0x7f9618ca58b0>,\n",
              " <matplotlib.lines.Line2D at 0x7f962092d100>,\n",
              " <matplotlib.lines.Line2D at 0x7f95e97bed00>,\n",
              " <matplotlib.lines.Line2D at 0x7f95e97becd0>,\n",
              " <matplotlib.lines.Line2D at 0x7f95e97bed90>,\n",
              " <matplotlib.lines.Line2D at 0x7f95f90d9070>,\n",
              " <matplotlib.lines.Line2D at 0x7f96208d7fd0>,\n",
              " <matplotlib.lines.Line2D at 0x7f96208d7ca0>,\n",
              " <matplotlib.lines.Line2D at 0x7f95f90961f0>,\n",
              " <matplotlib.lines.Line2D at 0x7f963a078dc0>,\n",
              " <matplotlib.lines.Line2D at 0x7f963a078d60>,\n",
              " <matplotlib.lines.Line2D at 0x7f963a0789d0>,\n",
              " <matplotlib.lines.Line2D at 0x7f963a0788e0>,\n",
              " <matplotlib.lines.Line2D at 0x7f963a078e20>,\n",
              " <matplotlib.lines.Line2D at 0x7f963a078a00>,\n",
              " <matplotlib.lines.Line2D at 0x7f9601373430>,\n",
              " <matplotlib.lines.Line2D at 0x7f9601373ee0>,\n",
              " <matplotlib.lines.Line2D at 0x7f9601373460>,\n",
              " <matplotlib.lines.Line2D at 0x7f9601373be0>,\n",
              " <matplotlib.lines.Line2D at 0x7f96013731f0>]"
            ]
          },
          "execution_count": 16,
          "metadata": {},
          "output_type": "execute_result"
        }
      ],
      "source": [
        "# create a linear regression model\n",
        "model_linreg = LinearRegression()\n",
        "\n",
        "X_train = X_train.apply(pd.to_numeric, errors='coerce')\n",
        "y_train = y_train.apply(pd.to_numeric, errors='coerce')\n",
        "X_test = X_test.apply(pd.to_numeric, errors='coerce')\n",
        "\n",
        "X_train.fillna(0, inplace=True)\n",
        "y_train.fillna(0, inplace=True)\n",
        "X_test.fillna(0, inplace=True)\n",
        "\n",
        "model_linreg.fit(X_train.values, y_train.values)\n",
        "\n",
        "# evaluate, define and save the RMSE and MAE summary statistics\n",
        "pred = model_linreg.predict(X_test.values)    \n",
        "RMSE = np.sqrt(mean_squared_error(y_test.values, pred))\n",
        "MAE = mean_absolute_error(y_test.values, pred)\n",
        "\n",
        "# the metrics object holds our two key summary statistics\n",
        "summary_stats = {\"RMSE\": RMSE, \"MAE\": MAE}\n",
        "\n",
        "# finally, generate and save a pretty plot\n",
        "plt.ioff()\n",
        "plt.scatter(X_train.iloc[:,0].values, y_train ,color='g')\n",
        "plt.plot(X_test, pred,color='k')"
      ]
    },
    {
      "attachments": {},
      "cell_type": "markdown",
      "id": "a12cb4b0",
      "metadata": {},
      "source": [
        "# Vectice Documentation Pipeline"
      ]
    },
    {
      "cell_type": "code",
      "execution_count": 17,
      "id": "0eb50c9f",
      "metadata": {},
      "outputs": [
        {
          "name": "stderr",
          "output_type": "stream",
          "text": [
            "Added Comment to Step: Select Modeling Techniques\n",
            "\n",
            "Link to Step: https://app.vectice.com/browse/iteration/ITR-2054\n",
            "\n"
          ]
        }
      ],
      "source": [
        "from vectice import FileResource, Dataset, Model\n",
        "iteration.step_select_modeling_techniques = \"For this first iteration we are going to use a Linear Regression model to get a base model.\""
      ]
    },
    {
      "cell_type": "code",
      "execution_count": 18,
      "id": "57e7b5d3",
      "metadata": {},
      "outputs": [
        {
          "name": "stderr",
          "output_type": "stream",
          "text": [
            "File: traindataset.csv wrapped successfully.\n",
            "File: testdataset.csv wrapped successfully.\n",
            "New Version: 'Version 10' of Dataset: 'Modeling dataset' added to Step: Generate Test Design\n",
            "Attachments: None\n",
            "Link to Step: https://app.vectice.com/browse/iteration/ITR-2054\n",
            "\n"
          ]
        }
      ],
      "source": [
        "dataset = Dataset.modeling(\n",
        "    name=\"Modeling dataset\", \n",
        "    training_resource=FileResource(paths=\"traindataset.csv\", dataframes=X_train), \n",
        "    testing_resource=FileResource(paths=\"testdataset.csv\", dataframes=X_test)\n",
        "    )\n",
        "iteration.step_generate_test_design = dataset"
      ]
    },
    {
      "cell_type": "code",
      "execution_count": 19,
      "id": "3-_H1j_T8tgF",
      "metadata": {
        "colab": {
          "base_uri": "https://localhost:8080/"
        },
        "id": "3-_H1j_T8tgF",
        "outputId": "91c622cb-f05c-458e-817f-a0b38f12ec57"
      },
      "outputs": [
        {
          "name": "stderr",
          "output_type": "stream",
          "text": [
            "Model LinearRegression successfully attached to Model(name='AcceptancePredictor', version='Version 30').\n",
            "New Version: 'Version 30' of Model: 'AcceptancePredictor' added to Step: Build Model\n",
            "Attachments: 26_LiftChart_holdout.png, Confusion_Matrix.png\n",
            "Link to Step: https://app.vectice.com/browse/iteration/ITR-2054\n",
            "\n",
            "Iteration with index 33 completed.\n",
            "\n",
            "For quick access to the Iteration in the Vectice web app, visit:\n",
            "https://app.vectice.com/browse/iteration/ITR-2054\n"
          ]
        }
      ],
      "source": [
        "# Catalog the model\n",
        "\n",
        "model = Model(\n",
        "    name=\"AcceptancePredictor\", \n",
        "    library= \"scikit-learn\", \n",
        "    technique=\"linear regression\", \n",
        "    metrics=summary_stats, \n",
        "    attachments=[\"26_LiftChart_holdout.png\",\"Confusion_Matrix.png\"], \n",
        "    predictor=model_linreg, \n",
        "    derived_from=[dataset.latest_version_id]\n",
        "    )\n",
        "iteration.step_build_model = model\n",
        "iteration.complete()"
      ]
    }
  ],
  "metadata": {
    "colab": {
      "provenance": []
    },
    "kernelspec": {
      "display_name": "Python 3 (ipykernel)",
      "language": "python",
      "name": "python3"
    },
    "language_info": {
      "codemirror_mode": {
        "name": "ipython",
        "version": 3
      },
      "file_extension": ".py",
      "mimetype": "text/x-python",
      "name": "python",
      "nbconvert_exporter": "python",
      "pygments_lexer": "ipython3",
      "version": "3.9.2"
    }
  },
  "nbformat": 4,
  "nbformat_minor": 5
}
